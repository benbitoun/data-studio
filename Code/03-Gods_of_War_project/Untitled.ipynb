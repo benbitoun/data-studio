{
 "cells": [
  {
   "cell_type": "code",
   "execution_count": 1,
   "metadata": {},
   "outputs": [],
   "source": [
    "import pandas as pd"
   ]
  },
  {
   "cell_type": "code",
   "execution_count": 3,
   "metadata": {},
   "outputs": [
    {
     "data": {
      "text/html": [
       "<div>\n",
       "<style scoped>\n",
       "    .dataframe tbody tr th:only-of-type {\n",
       "        vertical-align: middle;\n",
       "    }\n",
       "\n",
       "    .dataframe tbody tr th {\n",
       "        vertical-align: top;\n",
       "    }\n",
       "\n",
       "    .dataframe thead th {\n",
       "        text-align: right;\n",
       "    }\n",
       "</style>\n",
       "<table border=\"1\" class=\"dataframe\">\n",
       "  <thead>\n",
       "    <tr style=\"text-align: right;\">\n",
       "      <th></th>\n",
       "      <th>Unnamed: 0</th>\n",
       "    </tr>\n",
       "  </thead>\n",
       "  <tbody>\n",
       "    <tr>\n",
       "      <th>0</th>\n",
       "      <td>N</td>\n",
       "    </tr>\n",
       "    <tr>\n",
       "      <th>1</th>\n",
       "      <td>S</td>\n",
       "    </tr>\n",
       "    <tr>\n",
       "      <th>2</th>\n",
       "      <td>I</td>\n",
       "    </tr>\n",
       "    <tr>\n",
       "      <th>3</th>\n",
       "      <td>NaN</td>\n",
       "    </tr>\n",
       "    <tr>\n",
       "      <th>4</th>\n",
       "      <td>NaN</td>\n",
       "    </tr>\n",
       "  </tbody>\n",
       "</table>\n",
       "</div>"
      ],
      "text/plain": [
       "  Unnamed: 0\n",
       "0          N\n",
       "1          S\n",
       "2          I\n",
       "3        NaN\n",
       "4        NaN"
      ]
     },
     "execution_count": 3,
     "metadata": {},
     "output_type": "execute_result"
    }
   ],
   "source": [
    "df = pd.read_csv('Trade-Register.csv')\n",
    "df.head()"
   ]
  },
  {
   "cell_type": "code",
   "execution_count": 5,
   "metadata": {},
   "outputs": [
    {
     "data": {
      "text/plain": [
       "993"
      ]
     },
     "execution_count": 5,
     "metadata": {},
     "output_type": "execute_result"
    }
   ],
   "source": [
    "#Brazil Airplanes 1950-2017\n",
    "200+4+3+7+25+12+4+28+8+28+5+46+14+37+14+15+6+11+6+11+6+6+1+10+18+2+9+14+5+6+5+2+14+2+1+20+24+5+9+40+7+6+4+25+3+22+2+8+18+6+36+4+4+3+2+16+3+3+3+26+5+6+22+4+2+10+9+15+6+4+4+6+9+4+2+1"
   ]
  },
  {
   "cell_type": "code",
   "execution_count": 9,
   "metadata": {},
   "outputs": [
    {
     "data": {
      "text/plain": [
       "613"
      ]
     },
     "execution_count": 9,
     "metadata": {},
     "output_type": "execute_result"
    }
   ],
   "source": [
    "#Chile Airplanes 1950-2017\n",
    "10+36+5+17+10+8+20+3+3+10+6+32+10+5+4+5+1+2+18+3+4+11+4+4+2+1+12+4+2+3+6+1+12+4+5+4+2+4+1+5+1+1+9+3+2+14+4+2+1+1+1+1+34+1+8+2+18+2+8+1+18+3+27+2+1+6+1+1+15+5+10+4+10+1+4+10+9+2+15+1+8+2+1+1+1+3+10+4+8+3+4+2+2+6"
   ]
  },
  {
   "cell_type": "code",
   "execution_count": 10,
   "metadata": {},
   "outputs": [
    {
     "data": {
      "text/plain": [
       "962"
      ]
     },
     "execution_count": 10,
     "metadata": {},
     "output_type": "execute_result"
    }
   ],
   "source": [
    "#Colombia Airplanes 1950-2017\n",
    "+4+4+3+3+6+19+4+6+42+11+6+6+18+2+6+6+3+3+6+6+4+10+2+3+5+12+6+30+10+12+3+1+1+1+10+2+12+6+12+12+12+2+1+7+2+3+12+2+3+6+5+8+25+3+5+2+6+16+10+1+4+4+12+12+1+4+19+5+7+5+5+25+1+6+1+42+15+2+14+17+5+10+1+5+1+3+8+6+12+2+16+1+15+12+12+1+10+2+2+7+14+20+25+3+2+1+1+10+1+7+4+4+2+1+2+5+2+6+60+1+10"
   ]
  },
  {
   "cell_type": "code",
   "execution_count": null,
   "metadata": {},
   "outputs": [],
   "source": []
  }
 ],
 "metadata": {
  "kernelspec": {
   "display_name": "Python 3",
   "language": "python",
   "name": "python3"
  },
  "language_info": {
   "codemirror_mode": {
    "name": "ipython",
    "version": 3
   },
   "file_extension": ".py",
   "mimetype": "text/x-python",
   "name": "python",
   "nbconvert_exporter": "python",
   "pygments_lexer": "ipython3",
   "version": "3.6.4"
  }
 },
 "nbformat": 4,
 "nbformat_minor": 2
}
