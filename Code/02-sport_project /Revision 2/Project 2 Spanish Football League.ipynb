{
 "cells": [
  {
   "cell_type": "code",
   "execution_count": 2,
   "metadata": {},
   "outputs": [
    {
     "data": {
      "text/plain": [
       "'07-Jul-17'"
      ]
     },
     "execution_count": 2,
     "metadata": {},
     "output_type": "execute_result"
    }
   ],
   "source": [
    "import requests\n",
    "from bs4 import BeautifulSoup\n",
    "import pandas as pd\n",
    "import pandas as pd\n",
    "import numpy as np\n",
    "import matplotlib.pyplot as plt\n",
    "import matplotlib\n",
    "\n",
    "plt.style.use('ggplot')\n",
    "import dateutil.parser\n",
    "import re\n",
    "import time\n",
    "\n",
    "%matplotlib inline\n",
    "matplotlib.rcParams['pdf.fonttype'] = 42\n",
    "matplotlib.rcParams['ps.fonttype'] = 42\n",
    "datestring = time.strftime(\"%m-%h-%d\")\n",
    "datestring"
   ]
  },
  {
   "cell_type": "markdown",
   "metadata": {},
   "source": [
    "# Functions for the scraper "
   ]
  },
  {
   "cell_type": "code",
   "execution_count": 3,
   "metadata": {},
   "outputs": [],
   "source": [
    "#Function to pick every other player because of some duplicates:\n",
    "def removing_every_other_player(x):\n",
    "    return x[::2]"
   ]
  },
  {
   "cell_type": "code",
   "execution_count": 4,
   "metadata": {},
   "outputs": [],
   "source": [
    "#Functions for visiting players profil page. \n",
    "def alter(player):\n",
    "    try:\n",
    "        return player.find('th', text = re.compile('Alter:')).findNext('td').string\n",
    "    except:\n",
    "        return None"
   ]
  },
  {
   "cell_type": "code",
   "execution_count": 5,
   "metadata": {},
   "outputs": [],
   "source": [
    "def im_team_seit(player):\n",
    "    try:\n",
    "        return player.find('th', text = re.compile('Im Team seit:')).findNext('td').string.strip()\n",
    "    except:\n",
    "        return None"
   ]
  },
  {
   "cell_type": "code",
   "execution_count": 6,
   "metadata": {},
   "outputs": [],
   "source": [
    "def groesse(player):\n",
    "    try:\n",
    "        return int(player.find('th', text = re.compile('Größe:')).findNext('td').string.replace(',', '').replace(' m', ''))\n",
    "    except:\n",
    "        return None"
   ]
  },
  {
   "cell_type": "code",
   "execution_count": 15,
   "metadata": {},
   "outputs": [],
   "source": [
    "def position(player):\n",
    "    if player == None:\n",
    "        return None\n",
    "    else:\n",
    "        return player.find('th', text = re.compile('Position:'))\\\n",
    "    .findNext('td').string.strip()"
   ]
  },
  {
   "cell_type": "code",
   "execution_count": 16,
   "metadata": {},
   "outputs": [],
   "source": [
    "def club(player):\n",
    "    if player.find('th', text = re.compile('Aktueller Verein:')).string.strip() == 'Aktueller Verein:':\n",
    "        return player.find('th', text = re.compile('Aktueller')).findNext('td').findNext('a').find('img').get('alt')\n",
    "    elif player.find('th', text = re.compile('Current club:')).string.strip() == 'Current club:':\n",
    "        return player.find('th', text = re.compile('Current club:')).findNext('td').findNext('a').find('img').get('alt')\n",
    "    else:\n",
    "        return"
   ]
  },
  {
   "cell_type": "code",
   "execution_count": 17,
   "metadata": {},
   "outputs": [],
   "source": [
    "#Function to extract the player's earlier club\n",
    "def ex_club(player):\n",
    "    try:\n",
    "        return player.find('td', {'class': 'hauptlink no-border-links hide-for-small vereinsname'}).findNext('a').string\n",
    "    except:\n",
    "        return None"
   ]
  },
  {
   "cell_type": "code",
   "execution_count": 18,
   "metadata": {},
   "outputs": [],
   "source": [
    "def agent(player):\n",
    "    try:\n",
    "        return player.find('th', text = re.compile(\"Spielerberater:\"))\\\n",
    "    .findNext('td').findNext('a').get('title')\n",
    "    except:\n",
    "        return None"
   ]
  },
  {
   "cell_type": "code",
   "execution_count": 19,
   "metadata": {},
   "outputs": [],
   "source": [
    "def shoes(player):\n",
    "    try:\n",
    "        return player.find('th', text = re.compile(\"Ausrüster:\")).findNext('td')\\\n",
    "    .findNext('a').findNext('img').get('title')\n",
    "    except:\n",
    "        return None"
   ]
  },
  {
   "cell_type": "code",
   "execution_count": 70,
   "metadata": {},
   "outputs": [],
   "source": [
    "def marktwert(player):\n",
    "    try:\n",
    "        return player.find('div', {'class': 'right-td'}).findNext('a').text.replace(',', '').replace(' Mio. €', '0000').replace(' Tsd. €', '0000')\n",
    "    except:\n",
    "        return None"
   ]
  },
  {
   "cell_type": "code",
   "execution_count": 21,
   "metadata": {},
   "outputs": [],
   "source": [
    "def ausgeliehen_von(player):\n",
    "    try:\n",
    "        return player.find('th', text = re.compile(\"Ausgeliehen von:\")).findNext('td').find('a').text\n",
    "    except:\n",
    "        return None"
   ]
  },
  {
   "cell_type": "code",
   "execution_count": 22,
   "metadata": {},
   "outputs": [],
   "source": [
    "def Minuten(x):\n",
    "    try:\n",
    "        return int(x.find('td', {'class': 'zentriert'}).find_next('td', {'class': 'rechts'}).string.replace(\"'\", ''))\n",
    "    except:\n",
    "        return None"
   ]
  },
  {
   "cell_type": "markdown",
   "metadata": {},
   "source": [
    "# Scraping"
   ]
  },
  {
   "cell_type": "code",
   "execution_count": 91,
   "metadata": {},
   "outputs": [],
   "source": [
    "headers = {'User-Agent': 'Mozilla/5.0 (Macintosh; Intel Mac OS X 10_10_1) AppleWebKit/537.36 (KHTML, like Gecko) Chrome/39.0.2171.95 Safari/537.36'}"
   ]
  },
  {
   "cell_type": "code",
   "execution_count": 92,
   "metadata": {},
   "outputs": [],
   "source": [
    "url = \"https://www.transfermarkt.ch/laliga/transfers/wettbewerb/ES1/plus/?saison_id=2018\"\n",
    "response = requests.get(url, headers=headers)\n",
    "transfermarkt_soup = BeautifulSoup(response.text, 'html.parser')"
   ]
  },
  {
   "cell_type": "code",
   "execution_count": null,
   "metadata": {},
   "outputs": [],
   "source": []
  },
  {
   "cell_type": "code",
   "execution_count": 189,
   "metadata": {},
   "outputs": [],
   "source": [
    "box = transfermarkt_soup.find_all(class_='box')"
   ]
  },
  {
   "cell_type": "code",
   "execution_count": 259,
   "metadata": {},
   "outputs": [
    {
     "data": {
      "text/plain": [
       "'Atlético Madrid'"
      ]
     },
     "execution_count": 259,
     "metadata": {},
     "output_type": "execute_result"
    }
   ],
   "source": [
    "box[5].find(class_='table-header').findNext(class_='vereinprofil_tooltip').find('img').attrs['alt']"
   ]
  },
  {
   "cell_type": "code",
   "execution_count": 269,
   "metadata": {},
   "outputs": [
    {
     "data": {
      "text/plain": [
       "'https://www.transfermarkt.ch/juanfran/profil/spieler/64411'"
      ]
     },
     "execution_count": 269,
     "metadata": {},
     "output_type": "execute_result"
    }
   ],
   "source": []
  },
  {
   "cell_type": "code",
   "execution_count": 260,
   "metadata": {},
   "outputs": [
    {
     "data": {
      "text/plain": [
       "'CD Leganés'"
      ]
     },
     "execution_count": 260,
     "metadata": {},
     "output_type": "execute_result"
    }
   ],
   "source": [
    "teams = [box[team] for team in range(4,24)]\n",
    "teams[2].find(class_='table-header').findNext(class_='vereinprofil_tooltip').find('img').attrs['alt']"
   ]
  },
  {
   "cell_type": "code",
   "execution_count": 270,
   "metadata": {},
   "outputs": [
    {
     "name": "stdout",
     "output_type": "stream",
     "text": [
      "*************\n",
      "*************\n",
      "*************\n",
      "*************\n",
      "*************\n",
      "*************\n",
      "*************\n",
      "*************\n",
      "*************\n",
      "*************\n",
      "*************\n",
      "*************\n",
      "*************\n",
      "*************\n",
      "*************\n",
      "*************\n",
      "*************\n",
      "*************\n",
      "*************\n",
      "*************\n"
     ]
    }
   ],
   "source": [
    "data = []\n",
    "for team in teams:\n",
    "    print(\"*************\")\n",
    "    player_dict = {\n",
    "        'team': 0,\n",
    "        'name': 0,\n",
    "        'age': 0,\n",
    "        'position': 0,\n",
    "        'marktwert': 0,\n",
    "        'abgebender verein': 0,\n",
    "        'aufnehmender verein': 0,\n",
    "        'url': 0\n",
    "        \n",
    "    }\n",
    "    player_dict['team'] = team.find(class_='table-header').findNext(class_='vereinprofil_tooltip').find('img').attrs['alt'] #team\n",
    "    player_dict['name'] = team.find_all('tr')[1].text.strip() #name\n",
    "    player_dict['age'] = team.find_all('tr')[2].text.strip() #alter\n",
    "    player_dict['url'] = \"https://www.transfermarkt.ch\"+team.find_all('tr')[1].find('a').attrs['href'] #url [1] weil url im namen\n",
    "\n",
    "    data.append(player_dict)\n",
    "    \n"
   ]
  },
  {
   "cell_type": "code",
   "execution_count": 271,
   "metadata": {},
   "outputs": [
    {
     "data": {
      "text/plain": [
       "{'team': 'Real Valladolid',\n",
       " 'name': 'David MayoralD. Mayoral\\n21\\n\\nRechtsaußen\\nRA\\n200 Tsd. €\\n\\n \\xa0\\xa0Valladolid B\\n-',\n",
       " 'age': 'Moisés DelgadoM. Delgado\\n24\\n\\nLinker Verteidiger\\nLV\\n300 Tsd. €\\n\\n \\xa0\\xa0Valladolid B\\n-',\n",
       " 'position': 0,\n",
       " 'marktwert': 0,\n",
       " 'abgebender verein': 0,\n",
       " 'aufnehmender verein': 0,\n",
       " 'url': 'https://www.transfermarkt.ch/david-mayoral/profil/spieler/355629'}"
      ]
     },
     "execution_count": 271,
     "metadata": {},
     "output_type": "execute_result"
    }
   ],
   "source": [
    "player_dict"
   ]
  },
  {
   "cell_type": "code",
   "execution_count": 218,
   "metadata": {},
   "outputs": [
    {
     "ename": "AttributeError",
     "evalue": "ResultSet object has no attribute 'find_all'. You're probably treating a list of items like a single item. Did you call find_all() when you meant to call find()?",
     "output_type": "error",
     "traceback": [
      "\u001b[0;31m---------------------------------------------------------------------------\u001b[0m",
      "\u001b[0;31mAttributeError\u001b[0m                            Traceback (most recent call last)",
      "\u001b[0;32m<ipython-input-218-becc692eeea8>\u001b[0m in \u001b[0;36m<module>\u001b[0;34m()\u001b[0m\n\u001b[0;32m----> 1\u001b[0;31m \u001b[0mteams\u001b[0m\u001b[0;34m[\u001b[0m\u001b[0;36m0\u001b[0m\u001b[0;34m]\u001b[0m\u001b[0;34m.\u001b[0m\u001b[0mfind_all\u001b[0m\u001b[0;34m(\u001b[0m\u001b[0;34m'tr'\u001b[0m\u001b[0;34m)\u001b[0m\u001b[0;34m\u001b[0m\u001b[0m\n\u001b[0m",
      "\u001b[0;32m~/.pyenv/versions/3.6.4/lib/python3.6/site-packages/bs4/element.py\u001b[0m in \u001b[0;36m__getattr__\u001b[0;34m(self, key)\u001b[0m\n\u001b[1;32m   1805\u001b[0m     \u001b[0;32mdef\u001b[0m \u001b[0m__getattr__\u001b[0m\u001b[0;34m(\u001b[0m\u001b[0mself\u001b[0m\u001b[0;34m,\u001b[0m \u001b[0mkey\u001b[0m\u001b[0;34m)\u001b[0m\u001b[0;34m:\u001b[0m\u001b[0;34m\u001b[0m\u001b[0m\n\u001b[1;32m   1806\u001b[0m         raise AttributeError(\n\u001b[0;32m-> 1807\u001b[0;31m             \u001b[0;34m\"ResultSet object has no attribute '%s'. You're probably treating a list of items like a single item. Did you call find_all() when you meant to call find()?\"\u001b[0m \u001b[0;34m%\u001b[0m \u001b[0mkey\u001b[0m\u001b[0;34m\u001b[0m\u001b[0m\n\u001b[0m\u001b[1;32m   1808\u001b[0m         )\n",
      "\u001b[0;31mAttributeError\u001b[0m: ResultSet object has no attribute 'find_all'. You're probably treating a list of items like a single item. Did you call find_all() when you meant to call find()?"
     ]
    }
   ],
   "source": [
    "teams[0].find_all('tr')"
   ]
  },
  {
   "cell_type": "code",
   "execution_count": 217,
   "metadata": {},
   "outputs": [
    {
     "data": {
      "text/plain": [
       "[<tr>\n",
       " <th class=\"spieler-transfer-cell\">Zugang</th>\n",
       " <th class=\"zentriert alter-transfer-cell\">Alter</th>\n",
       " <th class=\"zentriert nat-transfer-cell\">Nat.</th>\n",
       " <th class=\"pos-transfer-cell\">Position</th>\n",
       " <th class=\"kurzpos-transfer-cell zentriert\">Pos</th>\n",
       " <th class=\"rechts mw-transfer-cell\">Marktwert</th>\n",
       " <th class=\"verein-transfer-cell\" colspan=\"2\">Abgebender Verein</th>\n",
       " <th class=\"rechts abloese-transfer-cell\">Ablöse</th>\n",
       " </tr>, <tr>\n",
       " <td><div class=\"di nowrap\"><span class=\"hide-for-small\"><a class=\"spielprofil_tooltip\" href=\"/thomas-lemar/profil/spieler/205562\" id=\"205562\" title=\"Thomas Lemar\">Thomas Lemar</a></span></div><div class=\"di nowrap\"><span class=\"show-for-small\"><a class=\"spielprofil_tooltip\" href=\"/thomas-lemar/profil/spieler/205562\" id=\"205562\" title=\"Thomas Lemar\">T. Lemar</a></span></div></td>\n",
       " <td class=\"zentriert alter-transfer-cell\">22</td>\n",
       " <td class=\"zentriert nat-transfer-cell\"><img alt=\"Frankreich\" class=\"flaggenrahmen\" src=\"https://tmssl.akamaized.net//images/flagge/tiny/50.png?lm=1520611569\" title=\"Frankreich\"/><br/><img alt=\"Guadeloupe\" class=\"flaggenrahmen\" src=\"https://tmssl.akamaized.net//images/flagge/tiny/251.png?lm=1520611569\" title=\"Guadeloupe\"/></td>\n",
       " <td class=\"pos-transfer-cell\">Linksaußen</td>\n",
       " <td class=\"kurzpos-transfer-cell zentriert\">LA</td>\n",
       " <td class=\"rechts mw-transfer-cell\">65,00 Mio. €</td>\n",
       " <td class=\"no-border-rechts zentriert\"><a class=\"vereinprofil_tooltip\" href=\"/as-monaco/transfers/verein/162/saison_id/2018\" id=\"162\"><img alt=\"AS Monaco\" class=\"tiny_wappen\" src=\"https://tmssl.akamaized.net//images/wappen/tiny/162.png?lm=1463176069\" title=\" \"/></a></td>\n",
       " <td class=\"no-border-links verein-flagge-transfer-cell\"> <img alt=\"Frankreich\" class=\"flaggenrahmen\" src=\"https://tmssl.akamaized.net//images/flagge/tiny/50.png?lm=1520611569\" title=\"Frankreich\"/>  <a class=\"vereinprofil_tooltip\" href=\"/as-monaco/transfers/verein/162/saison_id/2018\" id=\"162\">AS Monaco</a></td>\n",
       " <td class=\"rechts \"><a href=\"/jumplist/transfers/spieler/205562/transfer_id/2152323\">70,00 Mio. €</a></td>\n",
       " </tr>, <tr>\n",
       " <td><div class=\"di nowrap\"><span class=\"hide-for-small\"><a class=\"spielprofil_tooltip\" href=\"/rodri/profil/spieler/357565\" id=\"357565\" title=\"Rodri\">Rodri</a></span></div><div class=\"di nowrap\"><span class=\"show-for-small\"><a class=\"spielprofil_tooltip\" href=\"/rodri/profil/spieler/357565\" id=\"357565\" title=\"Rodri\">Rodri</a></span></div></td>\n",
       " <td class=\"zentriert alter-transfer-cell\">22</td>\n",
       " <td class=\"zentriert nat-transfer-cell\"><img alt=\"Spanien\" class=\"flaggenrahmen\" src=\"https://tmssl.akamaized.net//images/flagge/tiny/157.png?lm=1520611569\" title=\"Spanien\"/></td>\n",
       " <td class=\"pos-transfer-cell\">Defensives Mittelfeld</td>\n",
       " <td class=\"kurzpos-transfer-cell zentriert\">DM</td>\n",
       " <td class=\"rechts mw-transfer-cell\">25,00 Mio. €</td>\n",
       " <td class=\"no-border-rechts zentriert\"><a class=\"vereinprofil_tooltip\" href=\"/fc-villarreal/transfers/verein/1050/saison_id/2018\" id=\"1050\"><img alt=\"FC Villarreal\" class=\"tiny_wappen\" src=\"https://tmssl.akamaized.net//images/wappen/tiny/1050.png?lm=1408655310\" title=\" \"/></a></td>\n",
       " <td class=\"no-border-links verein-flagge-transfer-cell\"> <img alt=\"Spanien\" class=\"flaggenrahmen\" src=\"https://tmssl.akamaized.net//images/flagge/tiny/157.png?lm=1520611569\" title=\"Spanien\"/>  <a class=\"vereinprofil_tooltip\" href=\"/fc-villarreal/transfers/verein/1050/saison_id/2018\" id=\"1050\">FC Villarreal</a></td>\n",
       " <td class=\"rechts \"><a href=\"/jumplist/transfers/spieler/357565/transfer_id/2114885\">20,00 Mio. €</a></td>\n",
       " </tr>, <tr>\n",
       " <td><div class=\"di nowrap\"><span class=\"hide-for-small\"><a class=\"spielprofil_tooltip\" href=\"/antonio-adan/profil/spieler/44062\" id=\"44062\" title=\"Antonio Adán\">Antonio Adán</a></span></div><div class=\"di nowrap\"><span class=\"show-for-small\"><a class=\"spielprofil_tooltip\" href=\"/antonio-adan/profil/spieler/44062\" id=\"44062\" title=\"Antonio Adán\">A. Adán</a></span></div></td>\n",
       " <td class=\"zentriert alter-transfer-cell\">31</td>\n",
       " <td class=\"zentriert nat-transfer-cell\"><img alt=\"Spanien\" class=\"flaggenrahmen\" src=\"https://tmssl.akamaized.net//images/flagge/tiny/157.png?lm=1520611569\" title=\"Spanien\"/></td>\n",
       " <td class=\"pos-transfer-cell\">Torwart</td>\n",
       " <td class=\"kurzpos-transfer-cell zentriert\">TW</td>\n",
       " <td class=\"rechts mw-transfer-cell\">5,00 Mio. €</td>\n",
       " <td class=\"no-border-rechts zentriert\"><a class=\"vereinprofil_tooltip\" href=\"/real-betis-sevilla/transfers/verein/150/saison_id/2018\" id=\"150\"><img alt=\"Real Betis Sevilla\" class=\"tiny_wappen\" src=\"https://tmssl.akamaized.net//images/wappen/tiny/150.png?lm=1407484550\" title=\" \"/></a></td>\n",
       " <td class=\"no-border-links verein-flagge-transfer-cell\"> <img alt=\"Spanien\" class=\"flaggenrahmen\" src=\"https://tmssl.akamaized.net//images/flagge/tiny/157.png?lm=1520611569\" title=\"Spanien\"/>  <a class=\"vereinprofil_tooltip\" href=\"/real-betis-sevilla/transfers/verein/150/saison_id/2018\" id=\"150\">Betis Sevilla</a></td>\n",
       " <td class=\"rechts \"><a href=\"/jumplist/transfers/spieler/44062/transfer_id/2168912\">1,00 Mio. €</a></td>\n",
       " </tr>, <tr>\n",
       " <td><div class=\"di nowrap\"><span class=\"hide-for-small\"><a class=\"spielprofil_tooltip\" href=\"/bernard-mensah/profil/spieler/324321\" id=\"324321\" title=\"Bernard Mensah\">Bernard Mensah</a></span></div><div class=\"di nowrap\"><span class=\"show-for-small\"><a class=\"spielprofil_tooltip\" href=\"/bernard-mensah/profil/spieler/324321\" id=\"324321\" title=\"Bernard Mensah\">B. Mensah</a></span></div></td>\n",
       " <td class=\"zentriert alter-transfer-cell\">23</td>\n",
       " <td class=\"zentriert nat-transfer-cell\"><img alt=\"Ghana\" class=\"flaggenrahmen\" src=\"https://tmssl.akamaized.net//images/flagge/tiny/54.png?lm=1520611569\" title=\"Ghana\"/></td>\n",
       " <td class=\"pos-transfer-cell\">Offensives Mittelfeld</td>\n",
       " <td class=\"kurzpos-transfer-cell zentriert\">OM</td>\n",
       " <td class=\"rechts mw-transfer-cell\">2,00 Mio. €</td>\n",
       " <td class=\"no-border-rechts zentriert\"><a class=\"vereinprofil_tooltip\" href=\"/kasimpasa/transfers/verein/10484/saison_id/2017\" id=\"10484\"><img alt=\"Kasimpasa\" class=\"tiny_wappen\" src=\"https://tmssl.akamaized.net//images/wappen/tiny/10484.png?lm=1408653850\" title=\" \"/></a></td>\n",
       " <td class=\"no-border-links verein-flagge-transfer-cell\"> <img alt=\"Türkei\" class=\"flaggenrahmen\" src=\"https://tmssl.akamaized.net//images/flagge/tiny/174.png?lm=1520611569\" title=\"Türkei\"/>  <a class=\"vereinprofil_tooltip\" href=\"/kasimpasa/transfers/verein/10484/saison_id/2017\" id=\"10484\">Kasimpasa</a></td>\n",
       " <td class=\"rechts \"><a href=\"/jumplist/transfers/spieler/324321/transfer_id/1850214\">Leih-Ende<br/><i class=\"normaler-text\">30.06.2018</i></a></td>\n",
       " </tr>, <tr>\n",
       " <td><div class=\"di nowrap\"><span class=\"hide-for-small\"><a class=\"spielprofil_tooltip\" href=\"/emiliano-velazquez/profil/spieler/189458\" id=\"189458\" title=\"Emiliano Velázquez\">Emiliano Velázquez</a></span></div><div class=\"di nowrap\"><span class=\"show-for-small\"><a class=\"spielprofil_tooltip\" href=\"/emiliano-velazquez/profil/spieler/189458\" id=\"189458\" title=\"Emiliano Velázquez\">E. Velázquez</a></span></div></td>\n",
       " <td class=\"zentriert alter-transfer-cell\">24</td>\n",
       " <td class=\"zentriert nat-transfer-cell\"><img alt=\"Uruguay\" class=\"flaggenrahmen\" src=\"https://tmssl.akamaized.net//images/flagge/tiny/179.png?lm=1520611569\" title=\"Uruguay\"/></td>\n",
       " <td class=\"pos-transfer-cell\">Innenverteidiger</td>\n",
       " <td class=\"kurzpos-transfer-cell zentriert\">IV</td>\n",
       " <td class=\"rechts mw-transfer-cell\">1,00 Mio. €</td>\n",
       " <td class=\"no-border-rechts zentriert\"><a class=\"vereinprofil_tooltip\" href=\"/rayo-vallecano/transfers/verein/367/saison_id/2017\" id=\"367\"><img alt=\"Rayo Vallecano\" class=\"tiny_wappen\" src=\"https://tmssl.akamaized.net//images/wappen/tiny/367.png?lm=1408654926\" title=\" \"/></a></td>\n",
       " <td class=\"no-border-links verein-flagge-transfer-cell\"> <img alt=\"Spanien\" class=\"flaggenrahmen\" src=\"https://tmssl.akamaized.net//images/flagge/tiny/157.png?lm=1520611569\" title=\"Spanien\"/>  <a class=\"vereinprofil_tooltip\" href=\"/rayo-vallecano/transfers/verein/367/saison_id/2017\" id=\"367\">Rayo Vallecano</a></td>\n",
       " <td class=\"rechts \"><a href=\"/jumplist/transfers/spieler/189458/transfer_id/1855345\">Leih-Ende<br/><i class=\"normaler-text\">30.06.2018</i></a></td>\n",
       " </tr>, <tr>\n",
       " <td><div class=\"di nowrap\"><span class=\"hide-for-small\"><a class=\"spielprofil_tooltip\" href=\"/pierre-kunde/profil/spieler/339829\" id=\"339829\" title=\"Pierre Kunde\">Pierre Kunde</a></span></div><div class=\"di nowrap\"><span class=\"show-for-small\"><a class=\"spielprofil_tooltip\" href=\"/pierre-kunde/profil/spieler/339829\" id=\"339829\" title=\"Pierre Kunde\">P. Kunde</a></span></div></td>\n",
       " <td class=\"zentriert alter-transfer-cell\">22</td>\n",
       " <td class=\"zentriert nat-transfer-cell\"><img alt=\"Kamerun\" class=\"flaggenrahmen\" src=\"https://tmssl.akamaized.net//images/flagge/tiny/31.png?lm=1520611569\" title=\"Kamerun\"/></td>\n",
       " <td class=\"pos-transfer-cell\">Zentrales Mittelfeld</td>\n",
       " <td class=\"kurzpos-transfer-cell zentriert\">ZM</td>\n",
       " <td class=\"rechts mw-transfer-cell\">2,00 Mio. €</td>\n",
       " <td class=\"no-border-rechts zentriert\"><a class=\"vereinprofil_tooltip\" href=\"/fc-granada/transfers/verein/16795/saison_id/2017\" id=\"16795\"><img alt=\"FC Granada\" class=\"tiny_wappen\" src=\"https://tmssl.akamaized.net//images/wappen/tiny/16795.png?lm=1520935994\" title=\" \"/></a></td>\n",
       " <td class=\"no-border-links verein-flagge-transfer-cell\"> <img alt=\"Spanien\" class=\"flaggenrahmen\" src=\"https://tmssl.akamaized.net//images/flagge/tiny/157.png?lm=1520611569\" title=\"Spanien\"/>  <a class=\"vereinprofil_tooltip\" href=\"/fc-granada/transfers/verein/16795/saison_id/2017\" id=\"16795\">FC Granada</a></td>\n",
       " <td class=\"rechts \"><a href=\"/jumplist/transfers/spieler/339829/transfer_id/1852545\">Leih-Ende<br/><i class=\"normaler-text\">30.06.2018</i></a></td>\n",
       " </tr>, <tr>\n",
       " <td><div class=\"di nowrap\"><span class=\"hide-for-small\"><a class=\"spielprofil_tooltip\" href=\"/luciano-vietto/profil/spieler/214316\" id=\"214316\" title=\"Luciano Vietto\">Luciano Vietto</a></span></div><div class=\"di nowrap\"><span class=\"show-for-small\"><a class=\"spielprofil_tooltip\" href=\"/luciano-vietto/profil/spieler/214316\" id=\"214316\" title=\"Luciano Vietto\">L. Vietto</a></span></div></td>\n",
       " <td class=\"zentriert alter-transfer-cell\">24</td>\n",
       " <td class=\"zentriert nat-transfer-cell\"><img alt=\"Argentinien\" class=\"flaggenrahmen\" src=\"https://tmssl.akamaized.net//images/flagge/tiny/9.png?lm=1520611569\" title=\"Argentinien\"/><br/><img alt=\"Italien\" class=\"flaggenrahmen\" src=\"https://tmssl.akamaized.net//images/flagge/tiny/75.png?lm=1520611569\" title=\"Italien\"/></td>\n",
       " <td class=\"pos-transfer-cell\">Mittelstürmer</td>\n",
       " <td class=\"kurzpos-transfer-cell zentriert\">MS</td>\n",
       " <td class=\"rechts mw-transfer-cell\">6,00 Mio. €</td>\n",
       " <td class=\"no-border-rechts zentriert\"><a class=\"vereinprofil_tooltip\" href=\"/fc-valencia/transfers/verein/1049/saison_id/2017\" id=\"1049\"><img alt=\"FC Valencia\" class=\"tiny_wappen\" src=\"https://tmssl.akamaized.net//images/wappen/tiny/1049.png?lm=1406966320\" title=\" \"/></a></td>\n",
       " <td class=\"no-border-links verein-flagge-transfer-cell\"> <img alt=\"Spanien\" class=\"flaggenrahmen\" src=\"https://tmssl.akamaized.net//images/flagge/tiny/157.png?lm=1520611569\" title=\"Spanien\"/>  <a class=\"vereinprofil_tooltip\" href=\"/fc-valencia/transfers/verein/1049/saison_id/2017\" id=\"1049\">FC Valencia</a></td>\n",
       " <td class=\"rechts \"><a href=\"/jumplist/transfers/spieler/214316/transfer_id/1991397\">Leih-Ende<br/><i class=\"normaler-text\">30.06.2018</i></a></td>\n",
       " </tr>, <tr>\n",
       " <td><div class=\"di nowrap\"><span class=\"hide-for-small\"><a class=\"spielprofil_tooltip\" href=\"/diogo-jota/profil/spieler/340950\" id=\"340950\" title=\"Diogo Jota\">Diogo Jota</a></span></div><div class=\"di nowrap\"><span class=\"show-for-small\"><a class=\"spielprofil_tooltip\" href=\"/diogo-jota/profil/spieler/340950\" id=\"340950\" title=\"Diogo Jota\">Diogo Jota</a></span></div></td>\n",
       " <td class=\"zentriert alter-transfer-cell\">21</td>\n",
       " <td class=\"zentriert nat-transfer-cell\"><img alt=\"Portugal\" class=\"flaggenrahmen\" src=\"https://tmssl.akamaized.net//images/flagge/tiny/136.png?lm=1520611569\" title=\"Portugal\"/></td>\n",
       " <td class=\"pos-transfer-cell\">Linksaußen</td>\n",
       " <td class=\"kurzpos-transfer-cell zentriert\">LA</td>\n",
       " <td class=\"rechts mw-transfer-cell\">12,00 Mio. €</td>\n",
       " <td class=\"no-border-rechts zentriert\"><a class=\"vereinprofil_tooltip\" href=\"/wolverhampton-wanderers/transfers/verein/543/saison_id/2017\" id=\"543\"><img alt=\"Wolverhampton Wanderers\" class=\"tiny_wappen\" src=\"https://tmssl.akamaized.net//images/wappen/tiny/543.png?lm=1467496784\" title=\" \"/></a></td>\n",
       " <td class=\"no-border-links verein-flagge-transfer-cell\"> <img alt=\"England\" class=\"flaggenrahmen\" src=\"https://tmssl.akamaized.net//images/flagge/tiny/189.png?lm=1520611569\" title=\"England\"/>  <a class=\"vereinprofil_tooltip\" href=\"/wolverhampton-wanderers/transfers/verein/543/saison_id/2017\" id=\"543\">Wolverhampton</a></td>\n",
       " <td class=\"rechts \"><a href=\"/jumplist/transfers/spieler/340950/transfer_id/1852086\">Leih-Ende<br/><i class=\"normaler-text\">30.06.2018</i></a></td>\n",
       " </tr>, <tr>\n",
       " <td><div class=\"di nowrap\"><span class=\"hide-for-small\"><a class=\"spielprofil_tooltip\" href=\"/andre-moreira/profil/spieler/326363\" id=\"326363\" title=\"André Moreira\">André Moreira</a></span></div><div class=\"di nowrap\"><span class=\"show-for-small\"><a class=\"spielprofil_tooltip\" href=\"/andre-moreira/profil/spieler/326363\" id=\"326363\" title=\"André Moreira\">A. Moreira</a></span></div></td>\n",
       " <td class=\"zentriert alter-transfer-cell\">22</td>\n",
       " <td class=\"zentriert nat-transfer-cell\"><img alt=\"Portugal\" class=\"flaggenrahmen\" src=\"https://tmssl.akamaized.net//images/flagge/tiny/136.png?lm=1520611569\" title=\"Portugal\"/></td>\n",
       " <td class=\"pos-transfer-cell\">Torwart</td>\n",
       " <td class=\"kurzpos-transfer-cell zentriert\">TW</td>\n",
       " <td class=\"rechts mw-transfer-cell\">1,00 Mio. €</td>\n",
       " <td class=\"no-border-rechts zentriert\"><a class=\"vereinprofil_tooltip\" href=\"/cf-belenenses-lissabon/transfers/verein/2457/saison_id/2017\" id=\"2457\"><img alt=\"CF Belenenses Lissabon\" class=\"tiny_wappen\" src=\"https://tmssl.akamaized.net//images/wappen/tiny/2457.png?lm=1426600209\" title=\" \"/></a></td>\n",
       " <td class=\"no-border-links verein-flagge-transfer-cell\"> <img alt=\"Portugal\" class=\"flaggenrahmen\" src=\"https://tmssl.akamaized.net//images/flagge/tiny/136.png?lm=1520611569\" title=\"Portugal\"/>  <a class=\"vereinprofil_tooltip\" href=\"/cf-belenenses-lissabon/transfers/verein/2457/saison_id/2017\" id=\"2457\">CF Belenenses</a></td>\n",
       " <td class=\"rechts \"><a href=\"/jumplist/transfers/spieler/326363/transfer_id/1986512\">Leih-Ende<br/><i class=\"normaler-text\">30.06.2018</i></a></td>\n",
       " </tr>, <tr>\n",
       " <th class=\"spieler-transfer-cell\">Abgang</th>\n",
       " <th class=\"zentriert alter-transfer-cell\">Alter</th>\n",
       " <th class=\"zentriert nat-transfer-cell\">Nat.</th>\n",
       " <th class=\"pos-transfer-cell\">Position</th>\n",
       " <th class=\"kurzpos-transfer-cell zentriert\">Pos</th>\n",
       " <th class=\"rechts mw-transfer-cell\">Marktwert</th>\n",
       " <th class=\"verein-transfer-cell\" colspan=\"2\">Aufnehmender Verein</th>\n",
       " <th class=\"rechts abloese-transfer-cell\">Ablöse</th>\n",
       " </tr>, <tr>\n",
       " <td><div class=\"di nowrap\"><span class=\"hide-for-small\"><a class=\"spielprofil_tooltip\" href=\"/diogo-jota/profil/spieler/340950\" id=\"340950\" title=\"Diogo Jota\">Diogo Jota</a></span></div><div class=\"di nowrap\"><span class=\"show-for-small\"><a class=\"spielprofil_tooltip\" href=\"/diogo-jota/profil/spieler/340950\" id=\"340950\" title=\"Diogo Jota\">Diogo Jota</a></span></div></td>\n",
       " <td class=\"zentriert alter-transfer-cell\">21</td>\n",
       " <td class=\"zentriert nat-transfer-cell\"><img alt=\"Portugal\" class=\"flaggenrahmen\" src=\"https://tmssl.akamaized.net//images/flagge/tiny/136.png?lm=1520611569\" title=\"Portugal\"/></td>\n",
       " <td class=\"pos-transfer-cell\">Linksaußen</td>\n",
       " <td class=\"kurzpos-transfer-cell zentriert\">LA</td>\n",
       " <td class=\"rechts mw-transfer-cell\">12,00 Mio. €</td>\n",
       " <td class=\"no-border-rechts zentriert\"><a class=\"vereinprofil_tooltip\" href=\"/wolverhampton-wanderers/transfers/verein/543/saison_id/2018\" id=\"543\"><img alt=\"Wolverhampton Wanderers\" class=\"tiny_wappen\" src=\"https://tmssl.akamaized.net//images/wappen/tiny/543.png?lm=1467496784\" title=\" \"/></a></td>\n",
       " <td class=\"no-border-links verein-flagge-transfer-cell\"> <img alt=\"England\" class=\"flaggenrahmen\" src=\"https://tmssl.akamaized.net//images/flagge/tiny/189.png?lm=1520611569\" title=\"England\"/>  <a class=\"vereinprofil_tooltip\" href=\"/wolverhampton-wanderers/transfers/verein/543/saison_id/2018\" id=\"543\">Wolverhampton</a></td>\n",
       " <td class=\"rechts \"><a href=\"/jumplist/transfers/spieler/340950/transfer_id/2021513\">14,00 Mio. €</a></td>\n",
       " </tr>, <tr>\n",
       " <td><div class=\"di nowrap\"><span class=\"hide-for-small\"><a class=\"spielprofil_tooltip\" href=\"/pierre-kunde/profil/spieler/339829\" id=\"339829\" title=\"Pierre Kunde\">Pierre Kunde</a></span></div><div class=\"di nowrap\"><span class=\"show-for-small\"><a class=\"spielprofil_tooltip\" href=\"/pierre-kunde/profil/spieler/339829\" id=\"339829\" title=\"Pierre Kunde\">P. Kunde</a></span></div></td>\n",
       " <td class=\"zentriert alter-transfer-cell\">22</td>\n",
       " <td class=\"zentriert nat-transfer-cell\"><img alt=\"Kamerun\" class=\"flaggenrahmen\" src=\"https://tmssl.akamaized.net//images/flagge/tiny/31.png?lm=1520611569\" title=\"Kamerun\"/></td>\n",
       " <td class=\"pos-transfer-cell\">Zentrales Mittelfeld</td>\n",
       " <td class=\"kurzpos-transfer-cell zentriert\">ZM</td>\n",
       " <td class=\"rechts mw-transfer-cell\">2,00 Mio. €</td>\n",
       " <td class=\"no-border-rechts zentriert\"><a class=\"vereinprofil_tooltip\" href=\"/1-fsv-mainz-05/transfers/verein/39/saison_id/2018\" id=\"39\"><img alt=\"1.FSV Mainz 05\" class=\"tiny_wappen\" src=\"https://tmssl.akamaized.net//images/wappen/tiny/39.png?lm=1403085834\" title=\" \"/></a></td>\n",
       " <td class=\"no-border-links verein-flagge-transfer-cell\"> <img alt=\"Deutschland\" class=\"flaggenrahmen\" src=\"https://tmssl.akamaized.net//images/flagge/tiny/40.png?lm=1520612525\" title=\"Deutschland\"/>  <a class=\"vereinprofil_tooltip\" href=\"/1-fsv-mainz-05/transfers/verein/39/saison_id/2018\" id=\"39\">1.FSV Mainz 05</a></td>\n",
       " <td class=\"rechts \"><a href=\"/jumplist/transfers/spieler/339829/transfer_id/2163313\">7,50 Mio. €</a></td>\n",
       " </tr>, <tr>\n",
       " <td><div class=\"di nowrap\"><span class=\"hide-for-small\"><a class=\"spielprofil_tooltip\" href=\"/gabi/profil/spieler/22969\" id=\"22969\" title=\"Gabi\">Gabi</a></span></div><div class=\"di nowrap\"><span class=\"show-for-small\"><a class=\"spielprofil_tooltip\" href=\"/gabi/profil/spieler/22969\" id=\"22969\" title=\"Gabi\">Gabi</a></span></div></td>\n",
       " <td class=\"zentriert alter-transfer-cell\">34</td>\n",
       " <td class=\"zentriert nat-transfer-cell\"><img alt=\"Spanien\" class=\"flaggenrahmen\" src=\"https://tmssl.akamaized.net//images/flagge/tiny/157.png?lm=1520611569\" title=\"Spanien\"/></td>\n",
       " <td class=\"pos-transfer-cell\">Defensives Mittelfeld</td>\n",
       " <td class=\"kurzpos-transfer-cell zentriert\">DM</td>\n",
       " <td class=\"rechts mw-transfer-cell\">3,00 Mio. €</td>\n",
       " <td class=\"no-border-rechts zentriert\"><a class=\"vereinprofil_tooltip\" href=\"/al-sadd-sports-club/transfers/verein/656/saison_id/2018\" id=\"656\"><img alt=\"Al Sadd Sports Club\" class=\"tiny_wappen\" src=\"https://tmssl.akamaized.net//images/wappen/tiny/656.png?lm=1409420162\" title=\" \"/></a></td>\n",
       " <td class=\"no-border-links verein-flagge-transfer-cell\"> <img alt=\"Katar\" class=\"flaggenrahmen\" src=\"https://tmssl.akamaized.net//images/flagge/tiny/137.png?lm=1520611569\" title=\"Katar\"/>  <a class=\"vereinprofil_tooltip\" href=\"/al-sadd-sports-club/transfers/verein/656/saison_id/2018\" id=\"656\">Al Sadd</a></td>\n",
       " <td class=\"rechts \"><a href=\"/jumplist/transfers/spieler/22969/transfer_id/2157127\">ablösefrei</a></td>\n",
       " </tr>, <tr>\n",
       " <td><div class=\"di nowrap\"><span class=\"hide-for-small\"><a class=\"spielprofil_tooltip\" href=\"/fernando-torres/profil/spieler/7767\" id=\"7767\" title=\"Fernando Torres\">Fernando Torres</a></span></div><div class=\"di nowrap\"><span class=\"show-for-small\"><a class=\"spielprofil_tooltip\" href=\"/fernando-torres/profil/spieler/7767\" id=\"7767\" title=\"Fernando Torres\">F. Torres</a></span></div></td>\n",
       " <td class=\"zentriert alter-transfer-cell\">34</td>\n",
       " <td class=\"zentriert nat-transfer-cell\"><img alt=\"Spanien\" class=\"flaggenrahmen\" src=\"https://tmssl.akamaized.net//images/flagge/tiny/157.png?lm=1520611569\" title=\"Spanien\"/></td>\n",
       " <td class=\"pos-transfer-cell\">Mittelstürmer</td>\n",
       " <td class=\"kurzpos-transfer-cell zentriert\">MS</td>\n",
       " <td class=\"rechts mw-transfer-cell\">4,00 Mio. €</td>\n",
       " <td class=\"no-border-rechts zentriert\"><a class=\"vereinprofil_tooltip\" href=\"/sagan-tosu/transfers/verein/22177/saison_id/2018\" id=\"22177\"><img alt=\"Sagan Tosu\" class=\"tiny_wappen\" src=\"https://tmssl.akamaized.net//images/wappen/tiny/22177.png?lm=1422087397\" title=\" \"/></a></td>\n",
       " <td class=\"no-border-links verein-flagge-transfer-cell\"> <img alt=\"Japan\" class=\"flaggenrahmen\" src=\"https://tmssl.akamaized.net//images/flagge/tiny/77.png?lm=1520611569\" title=\"Japan\"/>  <a class=\"vereinprofil_tooltip\" href=\"/sagan-tosu/transfers/verein/22177/saison_id/2018\" id=\"22177\">Sagan Tosu</a></td>\n",
       " <td class=\"rechts \"><a href=\"/jumplist/transfers/spieler/7767/transfer_id/2083269\">ablösefrei</a></td>\n",
       " </tr>, <tr>\n",
       " <td><div class=\"di nowrap\"><span class=\"hide-for-small\"><a class=\"spielprofil_tooltip\" href=\"/bernard-mensah/profil/spieler/324321\" id=\"324321\" title=\"Bernard Mensah\">Bernard Mensah</a></span></div><div class=\"di nowrap\"><span class=\"show-for-small\"><a class=\"spielprofil_tooltip\" href=\"/bernard-mensah/profil/spieler/324321\" id=\"324321\" title=\"Bernard Mensah\">B. Mensah</a></span></div></td>\n",
       " <td class=\"zentriert alter-transfer-cell\">23</td>\n",
       " <td class=\"zentriert nat-transfer-cell\"><img alt=\"Ghana\" class=\"flaggenrahmen\" src=\"https://tmssl.akamaized.net//images/flagge/tiny/54.png?lm=1520611569\" title=\"Ghana\"/></td>\n",
       " <td class=\"pos-transfer-cell\">Offensives Mittelfeld</td>\n",
       " <td class=\"kurzpos-transfer-cell zentriert\">OM</td>\n",
       " <td class=\"rechts mw-transfer-cell\">2,00 Mio. €</td>\n",
       " <td class=\"no-border-rechts zentriert\"><a class=\"vereinprofil_tooltip\" href=\"/kayserispor/transfers/verein/3205/saison_id/2018\" id=\"3205\"><img alt=\"Kayserispor\" class=\"tiny_wappen\" src=\"https://tmssl.akamaized.net//images/wappen/tiny/3205.png?lm=1520239955\" title=\" \"/></a></td>\n",
       " <td class=\"no-border-links verein-flagge-transfer-cell\"> <img alt=\"Türkei\" class=\"flaggenrahmen\" src=\"https://tmssl.akamaized.net//images/flagge/tiny/174.png?lm=1520611569\" title=\"Türkei\"/>  <a class=\"vereinprofil_tooltip\" href=\"/kayserispor/transfers/verein/3205/saison_id/2018\" id=\"3205\">Kayserispor</a></td>\n",
       " <td class=\"rechts \"><a href=\"/jumplist/transfers/spieler/324321/transfer_id/2157106\">Leihe</a></td>\n",
       " </tr>, <tr>\n",
       " <td><div class=\"di nowrap\"><span class=\"hide-for-small\"><a class=\"spielprofil_tooltip\" href=\"/axel-werner/profil/spieler/236734\" id=\"236734\" title=\"Axel Werner\">Axel Werner</a></span></div><div class=\"di nowrap\"><span class=\"show-for-small\"><a class=\"spielprofil_tooltip\" href=\"/axel-werner/profil/spieler/236734\" id=\"236734\" title=\"Axel Werner\">A. Werner</a></span></div></td>\n",
       " <td class=\"zentriert alter-transfer-cell\">22</td>\n",
       " <td class=\"zentriert nat-transfer-cell\"><img alt=\"Argentinien\" class=\"flaggenrahmen\" src=\"https://tmssl.akamaized.net//images/flagge/tiny/9.png?lm=1520611569\" title=\"Argentinien\"/></td>\n",
       " <td class=\"pos-transfer-cell\">Torwart</td>\n",
       " <td class=\"kurzpos-transfer-cell zentriert\">TW</td>\n",
       " <td class=\"rechts mw-transfer-cell\">1,00 Mio. €</td>\n",
       " <td class=\"no-border-rechts zentriert\"><a class=\"vereinprofil_tooltip\" href=\"/sd-huesca/transfers/verein/5358/saison_id/2018\" id=\"5358\"><img alt=\"SD Huesca \" class=\"tiny_wappen\" src=\"https://tmssl.akamaized.net//images/wappen/tiny/5358.png?lm=1417644487\" title=\" \"/></a></td>\n",
       " <td class=\"no-border-links verein-flagge-transfer-cell\"> <img alt=\"Spanien\" class=\"flaggenrahmen\" src=\"https://tmssl.akamaized.net//images/flagge/tiny/157.png?lm=1520611569\" title=\"Spanien\"/>  <a class=\"vereinprofil_tooltip\" href=\"/sd-huesca/transfers/verein/5358/saison_id/2018\" id=\"5358\">SD Huesca</a></td>\n",
       " <td class=\"rechts \"><a href=\"/jumplist/transfers/spieler/236734/transfer_id/2171191\">Leihe</a></td>\n",
       " </tr>]"
      ]
     },
     "execution_count": 217,
     "metadata": {},
     "output_type": "execute_result"
    }
   ],
   "source": []
  },
  {
   "cell_type": "code",
   "execution_count": null,
   "metadata": {},
   "outputs": [],
   "source": []
  },
  {
   "cell_type": "code",
   "execution_count": null,
   "metadata": {},
   "outputs": [],
   "source": []
  },
  {
   "cell_type": "code",
   "execution_count": null,
   "metadata": {},
   "outputs": [],
   "source": []
  },
  {
   "cell_type": "code",
   "execution_count": null,
   "metadata": {},
   "outputs": [],
   "source": []
  },
  {
   "cell_type": "code",
   "execution_count": 174,
   "metadata": {},
   "outputs": [],
   "source": [
    "tr_soup = [tab.find_all('tr') for tab in table]"
   ]
  },
  {
   "cell_type": "code",
   "execution_count": 182,
   "metadata": {},
   "outputs": [
    {
     "data": {
      "text/plain": [
       "[<tr>\n",
       " <th class=\"spieler-transfer-cell\">Abgang</th>\n",
       " <th class=\"zentriert alter-transfer-cell\">Alter</th>\n",
       " <th class=\"zentriert nat-transfer-cell\">Nat.</th>\n",
       " <th class=\"pos-transfer-cell\">Position</th>\n",
       " <th class=\"kurzpos-transfer-cell zentriert\">Pos</th>\n",
       " <th class=\"rechts mw-transfer-cell\">Marktwert</th>\n",
       " <th class=\"verein-transfer-cell\" colspan=\"2\">Aufnehmender Verein</th>\n",
       " <th class=\"rechts abloese-transfer-cell\">Ablöse</th>\n",
       " </tr>, <tr>\n",
       " <td><div class=\"di nowrap\"><span class=\"hide-for-small\"><a class=\"spielprofil_tooltip\" href=\"/enric-saborit/profil/spieler/85372\" id=\"85372\" title=\"Enric Saborit\">Enric Saborit</a></span></div><div class=\"di nowrap\"><span class=\"show-for-small\"><a class=\"spielprofil_tooltip\" href=\"/enric-saborit/profil/spieler/85372\" id=\"85372\" title=\"Enric Saborit\">E. Saborit</a></span></div></td>\n",
       " <td class=\"zentriert alter-transfer-cell\">26</td>\n",
       " <td class=\"zentriert nat-transfer-cell\"><img alt=\"Spanien\" class=\"flaggenrahmen\" src=\"https://tmssl.akamaized.net//images/flagge/tiny/157.png?lm=1520611569\" title=\"Spanien\"/></td>\n",
       " <td class=\"pos-transfer-cell\">Linker Verteidiger</td>\n",
       " <td class=\"kurzpos-transfer-cell zentriert\">LV</td>\n",
       " <td class=\"rechts mw-transfer-cell\">800 Tsd. €</td>\n",
       " <td class=\"no-border-rechts zentriert\"><a class=\"vereinprofil_tooltip\" href=\"/maccabi-tel-aviv/transfers/verein/119/saison_id/2018\" id=\"119\"><img alt=\"Maccabi Tel Aviv\" class=\"tiny_wappen\" src=\"https://tmssl.akamaized.net//images/wappen/tiny/119.png?lm=1498505634\" title=\" \"/></a></td>\n",
       " <td class=\"no-border-links verein-flagge-transfer-cell\"> <img alt=\"Israel\" class=\"flaggenrahmen\" src=\"https://tmssl.akamaized.net//images/flagge/tiny/74.png?lm=1520611569\" title=\"Israel\"/>  <a class=\"vereinprofil_tooltip\" href=\"/maccabi-tel-aviv/transfers/verein/119/saison_id/2018\" id=\"119\">M. Tel Aviv</a></td>\n",
       " <td class=\"rechts \"><a href=\"/jumplist/transfers/spieler/85372/transfer_id/2113592\">ablösefrei</a></td>\n",
       " </tr>, <tr>\n",
       " <td><div class=\"di nowrap\"><span class=\"hide-for-small\"><a class=\"spielprofil_tooltip\" href=\"/mikel-vesga/profil/spieler/300168\" id=\"300168\" title=\"Mikel Vesga\">Mikel Vesga</a></span></div><div class=\"di nowrap\"><span class=\"show-for-small\"><a class=\"spielprofil_tooltip\" href=\"/mikel-vesga/profil/spieler/300168\" id=\"300168\" title=\"Mikel Vesga\">M. Vesga</a></span></div></td>\n",
       " <td class=\"zentriert alter-transfer-cell\">25</td>\n",
       " <td class=\"zentriert nat-transfer-cell\"><img alt=\"Spanien\" class=\"flaggenrahmen\" src=\"https://tmssl.akamaized.net//images/flagge/tiny/157.png?lm=1520611569\" title=\"Spanien\"/></td>\n",
       " <td class=\"pos-transfer-cell\">Defensives Mittelfeld</td>\n",
       " <td class=\"kurzpos-transfer-cell zentriert\">DM</td>\n",
       " <td class=\"rechts mw-transfer-cell\">2,50 Mio. €</td>\n",
       " <td class=\"no-border-rechts zentriert\"><a class=\"vereinprofil_tooltip\" href=\"/cd-leganes/transfers/verein/1244/saison_id/2018\" id=\"1244\"><img alt=\"CD Leganés\" class=\"tiny_wappen\" src=\"https://tmssl.akamaized.net//images/wappen/tiny/1244.png?lm=1422972468\" title=\" \"/></a></td>\n",
       " <td class=\"no-border-links verein-flagge-transfer-cell\"> <img alt=\"Spanien\" class=\"flaggenrahmen\" src=\"https://tmssl.akamaized.net//images/flagge/tiny/157.png?lm=1520611569\" title=\"Spanien\"/>  <a class=\"vereinprofil_tooltip\" href=\"/cd-leganes/transfers/verein/1244/saison_id/2018\" id=\"1244\">CD Leganés</a></td>\n",
       " <td class=\"rechts \"><a href=\"/jumplist/transfers/spieler/300168/transfer_id/2160306\">Leihe</a></td>\n",
       " </tr>, <tr>\n",
       " <td><div class=\"di nowrap\"><span class=\"hide-for-small\"><a class=\"spielprofil_tooltip\" href=\"/kike-sola/profil/spieler/51532\" id=\"51532\" title=\"Kike Sola\">Kike Sola</a></span></div><div class=\"di nowrap\"><span class=\"show-for-small\"><a class=\"spielprofil_tooltip\" href=\"/kike-sola/profil/spieler/51532\" id=\"51532\" title=\"Kike Sola\">Kike Sola</a></span></div></td>\n",
       " <td class=\"zentriert alter-transfer-cell\">32</td>\n",
       " <td class=\"zentriert nat-transfer-cell\"><img alt=\"Spanien\" class=\"flaggenrahmen\" src=\"https://tmssl.akamaized.net//images/flagge/tiny/157.png?lm=1520611569\" title=\"Spanien\"/></td>\n",
       " <td class=\"pos-transfer-cell\">Mittelstürmer</td>\n",
       " <td class=\"kurzpos-transfer-cell zentriert\">MS</td>\n",
       " <td class=\"rechts mw-transfer-cell\">500 Tsd. €</td>\n",
       " <td class=\"no-border-rechts zentriert\"><a class=\"\" href=\"/karriereende/transfers/verein/123/saison_id/2018\" id=\"123\" title=\"KarriereendeKarriereende\"><img alt=\"Karriereende\" class=\"tiny_wappen\" src=\"https://tmssl.akamaized.net//images/wappen/tiny/123.png?lm=1456997286\" title=\"Karriereende\"/></a></td>\n",
       " <td class=\"no-border-links verein-flagge-transfer-cell\">   <a class=\"\" href=\"/karriereende/transfers/verein/123/saison_id/2018\" id=\"123\" title=\"Karriereende\">Karriereende</a></td>\n",
       " <td class=\"rechts \"><a href=\"/jumplist/transfers/spieler/51532/transfer_id/2098758\">-</a></td>\n",
       " </tr>, <tr>\n",
       " <td><div class=\"di nowrap\"><span class=\"hide-for-small\"><a class=\"spielprofil_tooltip\" href=\"/urtzi-iriondo/profil/spieler/255499\" id=\"255499\" title=\"Urtzi Iriondo\">Urtzi Iriondo</a></span></div><div class=\"di nowrap\"><span class=\"show-for-small\"><a class=\"spielprofil_tooltip\" href=\"/urtzi-iriondo/profil/spieler/255499\" id=\"255499\" title=\"Urtzi Iriondo\">U. Iriondo</a></span></div></td>\n",
       " <td class=\"zentriert alter-transfer-cell\">23</td>\n",
       " <td class=\"zentriert nat-transfer-cell\"><img alt=\"Spanien\" class=\"flaggenrahmen\" src=\"https://tmssl.akamaized.net//images/flagge/tiny/157.png?lm=1520611569\" title=\"Spanien\"/></td>\n",
       " <td class=\"pos-transfer-cell\">Linker Verteidiger</td>\n",
       " <td class=\"kurzpos-transfer-cell zentriert\">LV</td>\n",
       " <td class=\"rechts mw-transfer-cell\">300 Tsd. €</td>\n",
       " <td class=\"no-border-rechts zentriert\"><a class=\"\" href=\"/vereinslos/transfers/verein/515/saison_id/2018\" id=\"515\" title=\"VereinslosVereinslos\"><img alt=\"Vereinslos\" class=\"tiny_wappen\" src=\"https://tmssl.akamaized.net//images/wappen/tiny/515.png?lm=1456997255\" title=\"Vereinslos\"/></a></td>\n",
       " <td class=\"no-border-links verein-flagge-transfer-cell\">   <a class=\"\" href=\"/vereinslos/transfers/verein/515/saison_id/2018\" id=\"515\" title=\"Vereinslos\">Vereinslos</a></td>\n",
       " <td class=\"rechts \"><a href=\"/jumplist/transfers/spieler/255499/transfer_id/2156010\">-</a></td>\n",
       " </tr>]"
      ]
     },
     "execution_count": 182,
     "metadata": {},
     "output_type": "execute_result"
    }
   ],
   "source": [
    "tr_soup[4]"
   ]
  },
  {
   "cell_type": "code",
   "execution_count": null,
   "metadata": {},
   "outputs": [],
   "source": []
  },
  {
   "cell_type": "code",
   "execution_count": 87,
   "metadata": {},
   "outputs": [],
   "source": [
    "transfermarkt = transfermarkt_soup.find_all('a', {'class': 'spielprofil_tooltip'})"
   ]
  },
  {
   "cell_type": "code",
   "execution_count": 88,
   "metadata": {},
   "outputs": [],
   "source": [
    "#not sure why this playing starts the scraped list. Keep an eye on this\n",
    "transfermarkt.pop(0)\n",
    "#Only picking every other player\n",
    "transfermarkt = removing_every_other_player(transfermarkt)"
   ]
  },
  {
   "cell_type": "code",
   "execution_count": 93,
   "metadata": {},
   "outputs": [
    {
     "name": "stdout",
     "output_type": "stream",
     "text": [
      "T. Hernández\n",
      "http://www.transfermarkt.ch/theo-hernandez/profil/spieler/339808\n",
      "20\n",
      "None\n",
      "Abwehr - Linker Verteidiger\n",
      "Real Madrid\n",
      "Atlético Madrid\n",
      "Manuel García Quilón\n",
      "None\n",
      "05.07.2017\n",
      " \n",
      "D. Ceballos\n",
      "http://www.transfermarkt.ch/dani-ceballos/profil/spieler/319745\n",
      "21\n",
      "None\n",
      "Mittelfeld - Zentrales Mittelfeld\n",
      "Real Madrid\n",
      "Betis Sevilla\n",
      "Bahía Internacional\n",
      "None\n",
      "14.07.2017\n",
      " \n",
      "P. Lienhart\n",
      "http://www.transfermarkt.ch/philipp-lienhart/profil/spieler/225657\n",
      "22\n",
      "None\n",
      "Abwehr - Innenverteidiger\n",
      "SC Freiburg\n",
      "Real Madrid\n",
      "Topscore Soccer Consultancy\n",
      "Nike Nike Tiempo Legend VII FG\n",
      "01.07.2018\n",
      " \n",
      "A. Hakimi\n",
      "http://www.transfermarkt.ch/achraf-hakimi/profil/spieler/398073\n",
      "19\n",
      "None\n",
      "Abwehr - Rechter Verteidiger\n",
      "Borussia Dortmund\n",
      "Bor. Dortmund\n",
      "FOOTFEEL ISM\n",
      "None\n",
      "11.07.2018\n",
      " \n",
      "B. Mayoral\n",
      "http://www.transfermarkt.ch/borja-mayoral/profil/spieler/298976\n",
      "21\n",
      "None\n",
      "Sturm - Mittelstürmer\n",
      "Real Madrid\n",
      "VfL Wolfsburg\n",
      "FOOTFEEL ISM\n",
      "None\n",
      "01.07.2016\n",
      " \n",
      "D. Llorente\n",
      "http://www.transfermarkt.ch/diego-llorente/profil/spieler/246291\n",
      "24\n",
      "None\n",
      "Abwehr - Innenverteidiger\n",
      "Real Sociedad San Sebastián\n",
      "Real Madrid\n",
      "Juanma López y Gelu Rodríguez\n",
      "None\n",
      "01.07.2017\n",
      " \n",
      "J. Vallejo\n",
      "http://www.transfermarkt.ch/jesus-vallejo/profil/spieler/251896\n"
     ]
    },
    {
     "ename": "KeyboardInterrupt",
     "evalue": "",
     "output_type": "error",
     "traceback": [
      "\u001b[0;31m---------------------------------------------------------------------------\u001b[0m",
      "\u001b[0;31mKeyboardInterrupt\u001b[0m                         Traceback (most recent call last)",
      "\u001b[0;32m<ipython-input-93-7131699004e6>\u001b[0m in \u001b[0;36m<module>\u001b[0;34m()\u001b[0m\n\u001b[1;32m     14\u001b[0m     \u001b[0;31m#Visiting players profil pages\u001b[0m\u001b[0;34m\u001b[0m\u001b[0;34m\u001b[0m\u001b[0m\n\u001b[1;32m     15\u001b[0m     \u001b[0mspieler_profil\u001b[0m \u001b[0;34m=\u001b[0m \u001b[0mrequests\u001b[0m\u001b[0;34m.\u001b[0m\u001b[0mget\u001b[0m\u001b[0;34m(\u001b[0m\u001b[0mspieler_link\u001b[0m\u001b[0;34m,\u001b[0m \u001b[0mheaders\u001b[0m\u001b[0;34m=\u001b[0m\u001b[0mheaders\u001b[0m\u001b[0;34m)\u001b[0m\u001b[0;34m\u001b[0m\u001b[0m\n\u001b[0;32m---> 16\u001b[0;31m     \u001b[0mspieler_profil\u001b[0m \u001b[0;34m=\u001b[0m \u001b[0mBeautifulSoup\u001b[0m\u001b[0;34m(\u001b[0m\u001b[0mspieler_profil\u001b[0m\u001b[0;34m.\u001b[0m\u001b[0mtext\u001b[0m\u001b[0;34m,\u001b[0m \u001b[0;34m'html.parser'\u001b[0m\u001b[0;34m)\u001b[0m\u001b[0;34m\u001b[0m\u001b[0m\n\u001b[0m\u001b[1;32m     17\u001b[0m     \u001b[0;31m#print(spieler_profil)\u001b[0m\u001b[0;34m\u001b[0m\u001b[0;34m\u001b[0m\u001b[0m\n\u001b[1;32m     18\u001b[0m \u001b[0;34m\u001b[0m\u001b[0m\n",
      "\u001b[0;32m~/.pyenv/versions/3.6.4/lib/python3.6/site-packages/bs4/__init__.py\u001b[0m in \u001b[0;36m__init__\u001b[0;34m(self, markup, features, builder, parse_only, from_encoding, exclude_encodings, **kwargs)\u001b[0m\n\u001b[1;32m    226\u001b[0m             \u001b[0mself\u001b[0m\u001b[0;34m.\u001b[0m\u001b[0mreset\u001b[0m\u001b[0;34m(\u001b[0m\u001b[0;34m)\u001b[0m\u001b[0;34m\u001b[0m\u001b[0m\n\u001b[1;32m    227\u001b[0m             \u001b[0;32mtry\u001b[0m\u001b[0;34m:\u001b[0m\u001b[0;34m\u001b[0m\u001b[0m\n\u001b[0;32m--> 228\u001b[0;31m                 \u001b[0mself\u001b[0m\u001b[0;34m.\u001b[0m\u001b[0m_feed\u001b[0m\u001b[0;34m(\u001b[0m\u001b[0;34m)\u001b[0m\u001b[0;34m\u001b[0m\u001b[0m\n\u001b[0m\u001b[1;32m    229\u001b[0m                 \u001b[0;32mbreak\u001b[0m\u001b[0;34m\u001b[0m\u001b[0m\n\u001b[1;32m    230\u001b[0m             \u001b[0;32mexcept\u001b[0m \u001b[0mParserRejectedMarkup\u001b[0m\u001b[0;34m:\u001b[0m\u001b[0;34m\u001b[0m\u001b[0m\n",
      "\u001b[0;32m~/.pyenv/versions/3.6.4/lib/python3.6/site-packages/bs4/__init__.py\u001b[0m in \u001b[0;36m_feed\u001b[0;34m(self)\u001b[0m\n\u001b[1;32m    287\u001b[0m         \u001b[0mself\u001b[0m\u001b[0;34m.\u001b[0m\u001b[0mbuilder\u001b[0m\u001b[0;34m.\u001b[0m\u001b[0mreset\u001b[0m\u001b[0;34m(\u001b[0m\u001b[0;34m)\u001b[0m\u001b[0;34m\u001b[0m\u001b[0m\n\u001b[1;32m    288\u001b[0m \u001b[0;34m\u001b[0m\u001b[0m\n\u001b[0;32m--> 289\u001b[0;31m         \u001b[0mself\u001b[0m\u001b[0;34m.\u001b[0m\u001b[0mbuilder\u001b[0m\u001b[0;34m.\u001b[0m\u001b[0mfeed\u001b[0m\u001b[0;34m(\u001b[0m\u001b[0mself\u001b[0m\u001b[0;34m.\u001b[0m\u001b[0mmarkup\u001b[0m\u001b[0;34m)\u001b[0m\u001b[0;34m\u001b[0m\u001b[0m\n\u001b[0m\u001b[1;32m    290\u001b[0m         \u001b[0;31m# Close out any unfinished strings and close all the open tags.\u001b[0m\u001b[0;34m\u001b[0m\u001b[0;34m\u001b[0m\u001b[0m\n\u001b[1;32m    291\u001b[0m         \u001b[0mself\u001b[0m\u001b[0;34m.\u001b[0m\u001b[0mendData\u001b[0m\u001b[0;34m(\u001b[0m\u001b[0;34m)\u001b[0m\u001b[0;34m\u001b[0m\u001b[0m\n",
      "\u001b[0;32m~/.pyenv/versions/3.6.4/lib/python3.6/site-packages/bs4/builder/_htmlparser.py\u001b[0m in \u001b[0;36mfeed\u001b[0;34m(self, markup)\u001b[0m\n\u001b[1;32m    213\u001b[0m         \u001b[0mparser\u001b[0m\u001b[0;34m.\u001b[0m\u001b[0msoup\u001b[0m \u001b[0;34m=\u001b[0m \u001b[0mself\u001b[0m\u001b[0;34m.\u001b[0m\u001b[0msoup\u001b[0m\u001b[0;34m\u001b[0m\u001b[0m\n\u001b[1;32m    214\u001b[0m         \u001b[0;32mtry\u001b[0m\u001b[0;34m:\u001b[0m\u001b[0;34m\u001b[0m\u001b[0m\n\u001b[0;32m--> 215\u001b[0;31m             \u001b[0mparser\u001b[0m\u001b[0;34m.\u001b[0m\u001b[0mfeed\u001b[0m\u001b[0;34m(\u001b[0m\u001b[0mmarkup\u001b[0m\u001b[0;34m)\u001b[0m\u001b[0;34m\u001b[0m\u001b[0m\n\u001b[0m\u001b[1;32m    216\u001b[0m         \u001b[0;32mexcept\u001b[0m \u001b[0mHTMLParseError\u001b[0m \u001b[0;32mas\u001b[0m \u001b[0me\u001b[0m\u001b[0;34m:\u001b[0m\u001b[0;34m\u001b[0m\u001b[0m\n\u001b[1;32m    217\u001b[0m             warnings.warn(RuntimeWarning(\n",
      "\u001b[0;32m~/.pyenv/versions/3.6.4/lib/python3.6/html/parser.py\u001b[0m in \u001b[0;36mfeed\u001b[0;34m(self, data)\u001b[0m\n\u001b[1;32m    109\u001b[0m         \"\"\"\n\u001b[1;32m    110\u001b[0m         \u001b[0mself\u001b[0m\u001b[0;34m.\u001b[0m\u001b[0mrawdata\u001b[0m \u001b[0;34m=\u001b[0m \u001b[0mself\u001b[0m\u001b[0;34m.\u001b[0m\u001b[0mrawdata\u001b[0m \u001b[0;34m+\u001b[0m \u001b[0mdata\u001b[0m\u001b[0;34m\u001b[0m\u001b[0m\n\u001b[0;32m--> 111\u001b[0;31m         \u001b[0mself\u001b[0m\u001b[0;34m.\u001b[0m\u001b[0mgoahead\u001b[0m\u001b[0;34m(\u001b[0m\u001b[0;36m0\u001b[0m\u001b[0;34m)\u001b[0m\u001b[0;34m\u001b[0m\u001b[0m\n\u001b[0m\u001b[1;32m    112\u001b[0m \u001b[0;34m\u001b[0m\u001b[0m\n\u001b[1;32m    113\u001b[0m     \u001b[0;32mdef\u001b[0m \u001b[0mclose\u001b[0m\u001b[0;34m(\u001b[0m\u001b[0mself\u001b[0m\u001b[0;34m)\u001b[0m\u001b[0;34m:\u001b[0m\u001b[0;34m\u001b[0m\u001b[0m\n",
      "\u001b[0;32m~/.pyenv/versions/3.6.4/lib/python3.6/html/parser.py\u001b[0m in \u001b[0;36mgoahead\u001b[0;34m(self, end)\u001b[0m\n\u001b[1;32m    169\u001b[0m             \u001b[0;32mif\u001b[0m \u001b[0mstartswith\u001b[0m\u001b[0;34m(\u001b[0m\u001b[0;34m'<'\u001b[0m\u001b[0;34m,\u001b[0m \u001b[0mi\u001b[0m\u001b[0;34m)\u001b[0m\u001b[0;34m:\u001b[0m\u001b[0;34m\u001b[0m\u001b[0m\n\u001b[1;32m    170\u001b[0m                 \u001b[0;32mif\u001b[0m \u001b[0mstarttagopen\u001b[0m\u001b[0;34m.\u001b[0m\u001b[0mmatch\u001b[0m\u001b[0;34m(\u001b[0m\u001b[0mrawdata\u001b[0m\u001b[0;34m,\u001b[0m \u001b[0mi\u001b[0m\u001b[0;34m)\u001b[0m\u001b[0;34m:\u001b[0m \u001b[0;31m# < + letter\u001b[0m\u001b[0;34m\u001b[0m\u001b[0m\n\u001b[0;32m--> 171\u001b[0;31m                     \u001b[0mk\u001b[0m \u001b[0;34m=\u001b[0m \u001b[0mself\u001b[0m\u001b[0;34m.\u001b[0m\u001b[0mparse_starttag\u001b[0m\u001b[0;34m(\u001b[0m\u001b[0mi\u001b[0m\u001b[0;34m)\u001b[0m\u001b[0;34m\u001b[0m\u001b[0m\n\u001b[0m\u001b[1;32m    172\u001b[0m                 \u001b[0;32melif\u001b[0m \u001b[0mstartswith\u001b[0m\u001b[0;34m(\u001b[0m\u001b[0;34m\"</\"\u001b[0m\u001b[0;34m,\u001b[0m \u001b[0mi\u001b[0m\u001b[0;34m)\u001b[0m\u001b[0;34m:\u001b[0m\u001b[0;34m\u001b[0m\u001b[0m\n\u001b[1;32m    173\u001b[0m                     \u001b[0mk\u001b[0m \u001b[0;34m=\u001b[0m \u001b[0mself\u001b[0m\u001b[0;34m.\u001b[0m\u001b[0mparse_endtag\u001b[0m\u001b[0;34m(\u001b[0m\u001b[0mi\u001b[0m\u001b[0;34m)\u001b[0m\u001b[0;34m\u001b[0m\u001b[0m\n",
      "\u001b[0;32m~/.pyenv/versions/3.6.4/lib/python3.6/html/parser.py\u001b[0m in \u001b[0;36mparse_starttag\u001b[0;34m(self, i)\u001b[0m\n\u001b[1;32m    324\u001b[0m                 \u001b[0mattrvalue\u001b[0m \u001b[0;34m=\u001b[0m \u001b[0mattrvalue\u001b[0m\u001b[0;34m[\u001b[0m\u001b[0;36m1\u001b[0m\u001b[0;34m:\u001b[0m\u001b[0;34m-\u001b[0m\u001b[0;36m1\u001b[0m\u001b[0;34m]\u001b[0m\u001b[0;34m\u001b[0m\u001b[0m\n\u001b[1;32m    325\u001b[0m             \u001b[0;32mif\u001b[0m \u001b[0mattrvalue\u001b[0m\u001b[0;34m:\u001b[0m\u001b[0;34m\u001b[0m\u001b[0m\n\u001b[0;32m--> 326\u001b[0;31m                 \u001b[0mattrvalue\u001b[0m \u001b[0;34m=\u001b[0m \u001b[0munescape\u001b[0m\u001b[0;34m(\u001b[0m\u001b[0mattrvalue\u001b[0m\u001b[0;34m)\u001b[0m\u001b[0;34m\u001b[0m\u001b[0m\n\u001b[0m\u001b[1;32m    327\u001b[0m             \u001b[0mattrs\u001b[0m\u001b[0;34m.\u001b[0m\u001b[0mappend\u001b[0m\u001b[0;34m(\u001b[0m\u001b[0;34m(\u001b[0m\u001b[0mattrname\u001b[0m\u001b[0;34m.\u001b[0m\u001b[0mlower\u001b[0m\u001b[0;34m(\u001b[0m\u001b[0;34m)\u001b[0m\u001b[0;34m,\u001b[0m \u001b[0mattrvalue\u001b[0m\u001b[0;34m)\u001b[0m\u001b[0;34m)\u001b[0m\u001b[0;34m\u001b[0m\u001b[0m\n\u001b[1;32m    328\u001b[0m             \u001b[0mk\u001b[0m \u001b[0;34m=\u001b[0m \u001b[0mm\u001b[0m\u001b[0;34m.\u001b[0m\u001b[0mend\u001b[0m\u001b[0;34m(\u001b[0m\u001b[0;34m)\u001b[0m\u001b[0;34m\u001b[0m\u001b[0m\n",
      "\u001b[0;32m~/.pyenv/versions/3.6.4/lib/python3.6/html/__init__.py\u001b[0m in \u001b[0;36munescape\u001b[0;34m(s)\u001b[0m\n\u001b[1;32m    130\u001b[0m     \u001b[0;32mif\u001b[0m \u001b[0;34m'&'\u001b[0m \u001b[0;32mnot\u001b[0m \u001b[0;32min\u001b[0m \u001b[0ms\u001b[0m\u001b[0;34m:\u001b[0m\u001b[0;34m\u001b[0m\u001b[0m\n\u001b[1;32m    131\u001b[0m         \u001b[0;32mreturn\u001b[0m \u001b[0ms\u001b[0m\u001b[0;34m\u001b[0m\u001b[0m\n\u001b[0;32m--> 132\u001b[0;31m     \u001b[0;32mreturn\u001b[0m \u001b[0m_charref\u001b[0m\u001b[0;34m.\u001b[0m\u001b[0msub\u001b[0m\u001b[0;34m(\u001b[0m\u001b[0m_replace_charref\u001b[0m\u001b[0;34m,\u001b[0m \u001b[0ms\u001b[0m\u001b[0;34m)\u001b[0m\u001b[0;34m\u001b[0m\u001b[0m\n\u001b[0m",
      "\u001b[0;32m~/.pyenv/versions/3.6.4/lib/python3.6/html/__init__.py\u001b[0m in \u001b[0;36m_replace_charref\u001b[0;34m(s)\u001b[0m\n\u001b[1;32m    106\u001b[0m     \u001b[0;32melse\u001b[0m\u001b[0;34m:\u001b[0m\u001b[0;34m\u001b[0m\u001b[0m\n\u001b[1;32m    107\u001b[0m         \u001b[0;31m# named charref\u001b[0m\u001b[0;34m\u001b[0m\u001b[0;34m\u001b[0m\u001b[0m\n\u001b[0;32m--> 108\u001b[0;31m         \u001b[0;32mif\u001b[0m \u001b[0ms\u001b[0m \u001b[0;32min\u001b[0m \u001b[0m_html5\u001b[0m\u001b[0;34m:\u001b[0m\u001b[0;34m\u001b[0m\u001b[0m\n\u001b[0m\u001b[1;32m    109\u001b[0m             \u001b[0;32mreturn\u001b[0m \u001b[0m_html5\u001b[0m\u001b[0;34m[\u001b[0m\u001b[0ms\u001b[0m\u001b[0;34m]\u001b[0m\u001b[0;34m\u001b[0m\u001b[0m\n\u001b[1;32m    110\u001b[0m         \u001b[0;31m# find the longest matching name (as defined by the standard)\u001b[0m\u001b[0;34m\u001b[0m\u001b[0;34m\u001b[0m\u001b[0m\n",
      "\u001b[0;31mKeyboardInterrupt\u001b[0m: "
     ]
    }
   ],
   "source": [
    "transfer_dict = []\n",
    "\n",
    "for spieler in transfermarkt:\n",
    "    \n",
    "    #Name\n",
    "    Name = spieler.string\n",
    "    print(Name)\n",
    "    \n",
    "    #Link\n",
    "    spieler_link = spieler['href']\n",
    "    spieler_link = 'http://www.transfermarkt.ch' + spieler_link\n",
    "    print(spieler_link)\n",
    "    \n",
    "    #Visiting players profil pages\n",
    "    spieler_profil = requests.get(spieler_link, headers=headers)\n",
    "    spieler_profil = BeautifulSoup(spieler_profil.text, 'html.parser')\n",
    "    #print(spieler_profil)\n",
    "    \n",
    "    Alter = alter(spieler_profil)\n",
    "    print(Alter)\n",
    "    Grösse = groesse(spieler_profil)\n",
    "    print(Grösse)\n",
    "    Position = position(spieler_profil)\n",
    "    print(Position)\n",
    "    Verein = club(spieler_profil)\n",
    "    print(Verein)\n",
    "    Ex_Verein = ex_club(spieler_profil)\n",
    "    print(Ex_Verein)\n",
    "    Agent = agent(spieler_profil)\n",
    "    print(Agent)\n",
    "    Ausrüster = shoes(spieler_profil)\n",
    "    print(Ausrüster)\n",
    "    Im_team_seit = im_team_seit(spieler_profil)\n",
    "    print(Im_team_seit)\n",
    "    Marktwert = marktwert(spieler_profil)\n",
    "    Ausgeliehen_von = ausgeliehen_von(spieler_profil)\n",
    "    print(Marktwert)\n",
    "    \n",
    "  # #Visiting Leistungsdaten pages\n",
    "  # spieler_leistungsdaten_link = spieler_link.replace('profil', 'leistungsdaten')\n",
    "  # spieler_leistungsdaten_link = spieler_leistungsdaten_link + '/plus/0?saison=ges'\n",
    "  # spieler_leistungsdaten = requests.get(spieler_leistungsdaten_link, headers=headers)\n",
    "  # spieler_leistungsdaten = BeautifulSoup(spieler_leistungsdaten.text, 'html.parser')\n",
    "  # print(spieler_leistungsdaten_link)\n",
    "  # \n",
    "  # #This is okay to do in a list, as every footballer has these parameters\n",
    "  # Spiele = spieler_leistungsdaten.find('tfoot')\n",
    "  # leistungsdaten = Spiele.find_all('td', {'class': 'zentriert'})\n",
    "  # leistungsdaten_list = []\n",
    "  # for Daten in leistungsdaten:\n",
    "  #     Daten = Daten.string\n",
    "  #     leistungsdaten_list.append(Daten)\n",
    "  # \n",
    "  # if len(leistungsdaten_list) > 6:\n",
    "  #     Totalspiele = int(leistungsdaten_list[0].replace('-', '0'))\n",
    "  #     Tore = int(leistungsdaten_list[1].replace('-', '0'))\n",
    "  #     Vorlagen = 0\n",
    "  #     Gelbe_Karten = int(leistungsdaten_list[2].replace('-', '0'))\n",
    "  #     Gelb_Rote_Karten = int(leistungsdaten_list[3].replace('-', '0'))\n",
    "  #     Rote_Karten = int(leistungsdaten_list[4].replace('-', '0'))\n",
    "  # \n",
    "  # else:\n",
    "  #     Totalspiele = int(leistungsdaten_list[0].replace('-', '0'))\n",
    "  #     Tore = int(leistungsdaten_list[1].replace('-', '0'))\n",
    "  #     Vorlagen = int(leistungsdaten_list[2].replace('-', '0'))\n",
    "  #     Gelbe_Karten = int(leistungsdaten_list[3].replace('-', '0'))\n",
    "  #     Gelb_Rote_Karten = int(leistungsdaten_list[4].replace('-', '0'))\n",
    "  #     Rote_Karten = int(leistungsdaten_list[5].replace('-', '0'))\n",
    "  #     #print(leistungsdaten_list)\n",
    "  # \n",
    "  # #Minuten = Minuten(Spiele)\n",
    "    \n",
    "    #Spieler_Dict = {\"Name\": Name,\n",
    "    #                \"Alter\": Alter,\n",
    "    #                \"URL\": spieler_link,\n",
    "    #                \"Grösse\": Grösse,\n",
    "    #                \"Position\": Position,\n",
    "    #                \"Verein\": Verein,\n",
    "    #                \"Wechsel von\": Ex_Verein,\n",
    "    #                \"Ausgeliehen von\": Ausgeliehen_von,\n",
    "    #                \"Agent\": Agent,\n",
    "    #                \"Ausrüster\": Ausrüster,\n",
    "    #                \"Im Team seit\": Im_team_seit,\n",
    "    #                \"Total Spiele\": Totalspiele,\n",
    "    #                \"Tore\": Tore,\n",
    "    #                \"Vorlagen\": Vorlagen,\n",
    "    #                \"Gelbe Karten\": Gelbe_Karten,\n",
    "    #                \"Gelb-Rote Karten\": Gelb_Rote_Karten,\n",
    "    #                \"Rote Karten\": Rote_Karten,\n",
    "    #                'Marktwert': Marktwert,\n",
    "    #                'Minuten': Minuten\n",
    "    #                }\n",
    "    #\n",
    "    #transfer_dict.append(Spieler_Dict)"
   ]
  },
  {
   "cell_type": "markdown",
   "metadata": {},
   "source": [
    "# Creating and cleaning the Dataframe¶"
   ]
  },
  {
   "cell_type": "code",
   "execution_count": 27,
   "metadata": {},
   "outputs": [],
   "source": [
    "#Creating the DataFrame\n",
    "df_transfers_spain = pd.DataFrame(transfer_dict)"
   ]
  },
  {
   "cell_type": "code",
   "execution_count": 31,
   "metadata": {},
   "outputs": [
    {
     "data": {
      "text/html": [
       "<div>\n",
       "<style scoped>\n",
       "    .dataframe tbody tr th:only-of-type {\n",
       "        vertical-align: middle;\n",
       "    }\n",
       "\n",
       "    .dataframe tbody tr th {\n",
       "        vertical-align: top;\n",
       "    }\n",
       "\n",
       "    .dataframe thead th {\n",
       "        text-align: right;\n",
       "    }\n",
       "</style>\n",
       "<table border=\"1\" class=\"dataframe\">\n",
       "  <thead>\n",
       "    <tr style=\"text-align: right;\">\n",
       "      <th></th>\n",
       "      <th>Agent</th>\n",
       "      <th>Alter</th>\n",
       "      <th>Ausgeliehen von</th>\n",
       "      <th>Ausrüster</th>\n",
       "      <th>Grösse</th>\n",
       "      <th>Im Team seit</th>\n",
       "      <th>Marktwert</th>\n",
       "      <th>Name</th>\n",
       "      <th>Position</th>\n",
       "      <th>URL</th>\n",
       "      <th>Verein</th>\n",
       "      <th>Wechsel von</th>\n",
       "    </tr>\n",
       "  </thead>\n",
       "  <tbody>\n",
       "    <tr>\n",
       "      <th>0</th>\n",
       "      <td>Media Base Sports</td>\n",
       "      <td>28</td>\n",
       "      <td>None</td>\n",
       "      <td>None</td>\n",
       "      <td>None</td>\n",
       "      <td>02.07.2018</td>\n",
       "      <td></td>\n",
       "      <td>Yuri Berchiche</td>\n",
       "      <td>Abwehr - Linker Verteidiger</td>\n",
       "      <td>http://www.transfermarkt.ch/yuri-berchiche/pro...</td>\n",
       "      <td>Athletic Bilbao</td>\n",
       "      <td>Paris SG</td>\n",
       "    </tr>\n",
       "    <tr>\n",
       "      <th>1</th>\n",
       "      <td>None</td>\n",
       "      <td>26</td>\n",
       "      <td>None</td>\n",
       "      <td>None</td>\n",
       "      <td>None</td>\n",
       "      <td>01.07.2018</td>\n",
       "      <td></td>\n",
       "      <td>Ander Capa</td>\n",
       "      <td>Abwehr - Rechter Verteidiger</td>\n",
       "      <td>http://www.transfermarkt.ch/ander-capa/profil/...</td>\n",
       "      <td>Athletic Bilbao</td>\n",
       "      <td>SD Eibar</td>\n",
       "    </tr>\n",
       "    <tr>\n",
       "      <th>2</th>\n",
       "      <td>SportLife Management</td>\n",
       "      <td>26</td>\n",
       "      <td>None</td>\n",
       "      <td>None</td>\n",
       "      <td>None</td>\n",
       "      <td>01.07.2018</td>\n",
       "      <td></td>\n",
       "      <td>Cristian Ganea</td>\n",
       "      <td>Abwehr - Linker Verteidiger</td>\n",
       "      <td>http://www.transfermarkt.ch/cristian-ganea/pro...</td>\n",
       "      <td>Athletic Bilbao</td>\n",
       "      <td>FC Viitorul</td>\n",
       "    </tr>\n",
       "    <tr>\n",
       "      <th>3</th>\n",
       "      <td>RGFOOTBALL</td>\n",
       "      <td>28</td>\n",
       "      <td>None</td>\n",
       "      <td></td>\n",
       "      <td>None</td>\n",
       "      <td>01.07.2018</td>\n",
       "      <td></td>\n",
       "      <td>Dani García</td>\n",
       "      <td>Mittelfeld - Zentrales Mittelfeld</td>\n",
       "      <td>http://www.transfermarkt.ch/dani-garcia/profil...</td>\n",
       "      <td>Athletic Bilbao</td>\n",
       "      <td>SD Eibar</td>\n",
       "    </tr>\n",
       "    <tr>\n",
       "      <th>4</th>\n",
       "      <td>Feel Winner</td>\n",
       "      <td>23</td>\n",
       "      <td>None</td>\n",
       "      <td>None</td>\n",
       "      <td>None</td>\n",
       "      <td>-</td>\n",
       "      <td></td>\n",
       "      <td>Alex Remiro</td>\n",
       "      <td>Torwart</td>\n",
       "      <td>http://www.transfermarkt.ch/alex-remiro/profil...</td>\n",
       "      <td>Athletic Bilbao</td>\n",
       "      <td>SD Huesca</td>\n",
       "    </tr>\n",
       "  </tbody>\n",
       "</table>\n",
       "</div>"
      ],
      "text/plain": [
       "                  Agent Alter Ausgeliehen von Ausrüster Grösse Im Team seit  \\\n",
       "0     Media Base Sports    28            None      None   None   02.07.2018   \n",
       "1                  None    26            None      None   None   01.07.2018   \n",
       "2  SportLife Management    26            None      None   None   01.07.2018   \n",
       "3            RGFOOTBALL    28            None             None   01.07.2018   \n",
       "4           Feel Winner    23            None      None   None            -   \n",
       "\n",
       "  Marktwert            Name                           Position  \\\n",
       "0            Yuri Berchiche        Abwehr - Linker Verteidiger   \n",
       "1                Ander Capa       Abwehr - Rechter Verteidiger   \n",
       "2            Cristian Ganea        Abwehr - Linker Verteidiger   \n",
       "3               Dani García  Mittelfeld - Zentrales Mittelfeld   \n",
       "4               Alex Remiro                            Torwart   \n",
       "\n",
       "                                                 URL           Verein  \\\n",
       "0  http://www.transfermarkt.ch/yuri-berchiche/pro...  Athletic Bilbao   \n",
       "1  http://www.transfermarkt.ch/ander-capa/profil/...  Athletic Bilbao   \n",
       "2  http://www.transfermarkt.ch/cristian-ganea/pro...  Athletic Bilbao   \n",
       "3  http://www.transfermarkt.ch/dani-garcia/profil...  Athletic Bilbao   \n",
       "4  http://www.transfermarkt.ch/alex-remiro/profil...  Athletic Bilbao   \n",
       "\n",
       "   Wechsel von  \n",
       "0     Paris SG  \n",
       "1     SD Eibar  \n",
       "2  FC Viitorul  \n",
       "3     SD Eibar  \n",
       "4    SD Huesca  "
      ]
     },
     "execution_count": 31,
     "metadata": {},
     "output_type": "execute_result"
    }
   ],
   "source": [
    "df_transfers_spain.head()"
   ]
  },
  {
   "cell_type": "code",
   "execution_count": null,
   "metadata": {},
   "outputs": [],
   "source": []
  }
 ],
 "metadata": {
  "kernelspec": {
   "display_name": "Python 3",
   "language": "python",
   "name": "python3"
  },
  "language_info": {
   "codemirror_mode": {
    "name": "ipython",
    "version": 3
   },
   "file_extension": ".py",
   "mimetype": "text/x-python",
   "name": "python",
   "nbconvert_exporter": "python",
   "pygments_lexer": "ipython3",
   "version": "3.6.4"
  }
 },
 "nbformat": 4,
 "nbformat_minor": 2
}
