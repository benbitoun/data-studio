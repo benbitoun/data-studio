{
 "cells": [
  {
   "cell_type": "code",
   "execution_count": 1,
   "metadata": {},
   "outputs": [
    {
     "data": {
      "text/plain": [
       "'07-Jul-17'"
      ]
     },
     "execution_count": 1,
     "metadata": {},
     "output_type": "execute_result"
    }
   ],
   "source": [
    "import requests\n",
    "from bs4 import BeautifulSoup\n",
    "import pandas as pd\n",
    "import pandas as pd\n",
    "import numpy as np\n",
    "import matplotlib.pyplot as plt\n",
    "import matplotlib\n",
    "\n",
    "plt.style.use('ggplot')\n",
    "import dateutil.parser\n",
    "import re\n",
    "import time\n",
    "\n",
    "%matplotlib inline\n",
    "matplotlib.rcParams['pdf.fonttype'] = 42\n",
    "matplotlib.rcParams['ps.fonttype'] = 42\n",
    "datestring = time.strftime(\"%m-%h-%d\")\n",
    "datestring"
   ]
  },
  {
   "cell_type": "markdown",
   "metadata": {},
   "source": [
    "# Functions for the scraper "
   ]
  },
  {
   "cell_type": "code",
   "execution_count": 2,
   "metadata": {},
   "outputs": [],
   "source": [
    "#Function to pick every other player because of some duplicates:\n",
    "def removing_every_other_player(x):\n",
    "    return x[::2]"
   ]
  },
  {
   "cell_type": "code",
   "execution_count": 3,
   "metadata": {},
   "outputs": [],
   "source": [
    "#Functions for visiting players profil page. \n",
    "def alter(player):\n",
    "    try:\n",
    "        return player.find('th', text = re.compile('Alter:')).findNext('td').string\n",
    "    except:\n",
    "        return None"
   ]
  },
  {
   "cell_type": "code",
   "execution_count": 4,
   "metadata": {},
   "outputs": [],
   "source": [
    "def im_team_seit(player):\n",
    "    try:\n",
    "        return player.find('th', text = re.compile('Im Team seit:')).findNext('td').string.strip()\n",
    "    except:\n",
    "        return None"
   ]
  },
  {
   "cell_type": "code",
   "execution_count": 5,
   "metadata": {},
   "outputs": [],
   "source": [
    "def groesse(player):\n",
    "    try:\n",
    "        return int(player.find('th', text = re.compile('Größe:')).findNext('td').string.replace(',', '').replace(' m', ''))\n",
    "    except:\n",
    "        return None"
   ]
  },
  {
   "cell_type": "code",
   "execution_count": 6,
   "metadata": {},
   "outputs": [],
   "source": [
    "def position(player):\n",
    "    if player == None:\n",
    "        return None\n",
    "    else:\n",
    "        return player.find('th', text = re.compile('Position:'))\\\n",
    "    .findNext('td').string.strip()"
   ]
  },
  {
   "cell_type": "code",
   "execution_count": 7,
   "metadata": {},
   "outputs": [],
   "source": [
    "def club(player):\n",
    "    if player.find('th', text = re.compile('Aktueller Verein:')).string.strip() == 'Aktueller Verein:':\n",
    "        return player.find('th', text = re.compile('Aktueller')).findNext('td').findNext('a').find('img').get('alt')\n",
    "    elif player.find('th', text = re.compile('Current club:')).string.strip() == 'Current club:':\n",
    "        return player.find('th', text = re.compile('Current club:')).findNext('td').findNext('a').find('img').get('alt')\n",
    "    else:\n",
    "        return"
   ]
  },
  {
   "cell_type": "code",
   "execution_count": 8,
   "metadata": {},
   "outputs": [],
   "source": [
    "#Function to extract the player's earlier club\n",
    "def ex_club(player):\n",
    "    try:\n",
    "        return player.find('td', {'class': 'hauptlink no-border-links hide-for-small vereinsname'}).findNext('a').string\n",
    "    except:\n",
    "        return None"
   ]
  },
  {
   "cell_type": "code",
   "execution_count": 9,
   "metadata": {},
   "outputs": [],
   "source": [
    "def agent(player):\n",
    "    try:\n",
    "        return player.find('th', text = re.compile(\"Spielerberater:\"))\\\n",
    "    .findNext('td').findNext('a').get('title')\n",
    "    except:\n",
    "        return None"
   ]
  },
  {
   "cell_type": "code",
   "execution_count": 10,
   "metadata": {},
   "outputs": [],
   "source": [
    "def shoes(player):\n",
    "    try:\n",
    "        return player.find('th', text = re.compile(\"Ausrüster:\")).findNext('td')\\\n",
    "    .findNext('a').findNext('img').get('title')\n",
    "    except:\n",
    "        return None"
   ]
  },
  {
   "cell_type": "code",
   "execution_count": 11,
   "metadata": {},
   "outputs": [],
   "source": [
    "def marktwert(player):\n",
    "    try:\n",
    "        return player.find('div', {'class': 'right-td'}).findNext('a').text.replace(',', '').replace(' Mio. €', '0000').replace(' Tsd. €', '0000')\n",
    "    except:\n",
    "        return None"
   ]
  },
  {
   "cell_type": "code",
   "execution_count": 12,
   "metadata": {},
   "outputs": [],
   "source": [
    "def ausgeliehen_von(player):\n",
    "    try:\n",
    "        return player.find('th', text = re.compile(\"Ausgeliehen von:\")).findNext('td').find('a').text\n",
    "    except:\n",
    "        return None"
   ]
  },
  {
   "cell_type": "code",
   "execution_count": 13,
   "metadata": {},
   "outputs": [],
   "source": [
    "def Minuten(x):\n",
    "    try:\n",
    "        return int(x.find('td', {'class': 'zentriert'}).find_next('td', {'class': 'rechts'}).string.replace(\"'\", ''))\n",
    "    except:\n",
    "        return None"
   ]
  },
  {
   "cell_type": "markdown",
   "metadata": {},
   "source": [
    "# Scraping"
   ]
  },
  {
   "cell_type": "code",
   "execution_count": 14,
   "metadata": {},
   "outputs": [],
   "source": [
    "#Header:\n",
    "headers = {'User-Agent': 'Mozilla/5.0 (Macintosh; Intel Mac OS X 10_10_1) AppleWebKit/537.36 (KHTML, like Gecko) Chrome/39.0.2171.95 Safari/537.36'}"
   ]
  },
  {
   "cell_type": "code",
   "execution_count": 15,
   "metadata": {},
   "outputs": [],
   "source": [
    "url = \"https://www.transfermarkt.ch/ligue-1/transfers/wettbewerb/FR1/saison_id/2018\"\n",
    "response = requests.get(url, headers=headers)\n",
    "transfermarkt_soup = BeautifulSoup(response.text, 'html.parser')"
   ]
  },
  {
   "cell_type": "code",
   "execution_count": 16,
   "metadata": {},
   "outputs": [],
   "source": [
    "transfermarkt = transfermarkt_soup.find_all('a', {'class': 'spielprofil_tooltip'})"
   ]
  },
  {
   "cell_type": "code",
   "execution_count": 17,
   "metadata": {},
   "outputs": [],
   "source": [
    "#not sure why this playing starts the scraped list. Keep an eye on this\n",
    "transfermarkt.pop(0)\n",
    "#Only picking every other player\n",
    "transfermarkt = removing_every_other_player(transfermarkt)"
   ]
  },
  {
   "cell_type": "code",
   "execution_count": null,
   "metadata": {},
   "outputs": [],
   "source": [
    "transfer_dict = []\n",
    "\n",
    "for spieler in transfermarkt:\n",
    "    \n",
    "    #Name\n",
    "    Name = spieler.string\n",
    "    print(Name)\n",
    "    \n",
    "    #Link\n",
    "    spieler_link = spieler['href']\n",
    "    spieler_link = 'http://www.transfermarkt.ch' + spieler_link\n",
    "    #print(spieler_link)\n",
    "    \n",
    "    #Visiting players profil pages\n",
    "    spieler_profil = requests.get(spieler_link, headers=headers)\n",
    "    spieler_profil = BeautifulSoup(spieler_profil.text, 'html.parser')\n",
    "    #print(spieler_profil)\n",
    "    \n",
    "    Alter = alter(spieler_profil)\n",
    "    #print(Alter)\n",
    "    Grösse = groesse(spieler_profil)\n",
    "    #print(Grösse)\n",
    "    Position = position(spieler_profil)\n",
    "    #print(Position)\n",
    "    Verein = club(spieler_profil)\n",
    "    #print(Verein)\n",
    "    Ex_Verein = ex_club(spieler_profil)\n",
    "    #print(Ex_Verein)\n",
    "    Agent = agent(spieler_profil)\n",
    "    #print(Agent)\n",
    "    Ausrüster = shoes(spieler_profil)\n",
    "    #print(Ausrüster)\n",
    "    Im_team_seit = im_team_seit(spieler_profil)\n",
    "    #print(Im_team_seit)\n",
    "    Marktwert = marktwert(spieler_profil)\n",
    "    Ausgeliehen_von = ausgeliehen_von(spieler_profil)\n",
    "    #print(Marktwert)\n",
    "    #print(Marktwert)\n",
    "    \n",
    "    #Visiting Leistungsdaten pages\n",
    "    spieler_leistungsdaten_link = spieler_link.replace('profil', 'leistungsdaten')\n",
    "    spieler_leistungsdaten_link = spieler_leistungsdaten_link + '/plus/0?saison=ges'\n",
    "    spieler_leistungsdaten = requests.get(spieler_leistungsdaten_link, headers=headers)\n",
    "    spieler_leistungsdaten = BeautifulSoup(spieler_leistungsdaten.text, 'html.parser')\n",
    "    print(spieler_leistungsdaten_link)\n",
    "    \n",
    "    #This is okay to do in a list, as every footballer has these parameters\n",
    "    Spiele = spieler_leistungsdaten.find('tfoot')\n",
    "    leistungsdaten = Spiele.find_all('td', {'class': 'zentriert'})\n",
    "    leistungsdaten_list = []\n",
    "    for Daten in leistungsdaten:\n",
    "        Daten = Daten.string\n",
    "        leistungsdaten_list.append(Daten)\n",
    "    \n",
    "    if len(leistungsdaten_list) > 6:\n",
    "        Totalspiele = int(leistungsdaten_list[0].replace('-', '0'))\n",
    "        Tore = int(leistungsdaten_list[1].replace('-', '0'))\n",
    "        Vorlagen = 0\n",
    "        Gelbe_Karten = int(leistungsdaten_list[2].replace('-', '0'))\n",
    "        Gelb_Rote_Karten = int(leistungsdaten_list[3].replace('-', '0'))\n",
    "        Rote_Karten = int(leistungsdaten_list[4].replace('-', '0'))\n",
    "    \n",
    "    else:\n",
    "        Totalspiele = int(leistungsdaten_list[0].replace('-', '0'))\n",
    "        Tore = int(leistungsdaten_list[1].replace('-', '0'))\n",
    "        Vorlagen = int(leistungsdaten_list[2].replace('-', '0'))\n",
    "        Gelbe_Karten = int(leistungsdaten_list[3].replace('-', '0'))\n",
    "        Gelb_Rote_Karten = int(leistungsdaten_list[4].replace('-', '0'))\n",
    "        Rote_Karten = int(leistungsdaten_list[5].replace('-', '0'))\n",
    "        #print(leistungsdaten_list)\n",
    "    \n",
    "    #Minuten = Minuten(Spiele)\n",
    "    \n",
    "    Spieler_Dict = {\"Name\": Name,\n",
    "                    \"Alter\": Alter,\n",
    "                    \"URL\": spieler_link,\n",
    "                    \"Grösse\": Grösse,\n",
    "                    \"Position\": Position,\n",
    "                    \"Verein\": Verein,\n",
    "                    \"Wechsel von\": Ex_Verein,\n",
    "                    \"Ausgeliehen von\": Ausgeliehen_von,\n",
    "                    \"Agent\": Agent,\n",
    "                    \"Ausrüster\": Ausrüster,\n",
    "                    \"Im Team seit\": Im_team_seit,\n",
    "                    \"Total Spiele\": Totalspiele,\n",
    "                    \"Tore\": Tore,\n",
    "                    \"Vorlagen\": Vorlagen,\n",
    "                    \"Gelbe Karten\": Gelbe_Karten,\n",
    "                    \"Gelb-Rote Karten\": Gelb_Rote_Karten,\n",
    "                    \"Rote Karten\": Rote_Karten,\n",
    "                    'Marktwert': Marktwert,\n",
    "                    'Minuten': Minuten\n",
    "                    }\n",
    "    \n",
    "    transfer_dict.append(Spieler_Dict)"
   ]
  },
  {
   "cell_type": "code",
   "execution_count": null,
   "metadata": {},
   "outputs": [],
   "source": []
  }
 ],
 "metadata": {
  "kernelspec": {
   "display_name": "Python 3",
   "language": "python",
   "name": "python3"
  },
  "language_info": {
   "codemirror_mode": {
    "name": "ipython",
    "version": 3
   },
   "file_extension": ".py",
   "mimetype": "text/x-python",
   "name": "python",
   "nbconvert_exporter": "python",
   "pygments_lexer": "ipython3",
   "version": "3.6.4"
  }
 },
 "nbformat": 4,
 "nbformat_minor": 2
}
